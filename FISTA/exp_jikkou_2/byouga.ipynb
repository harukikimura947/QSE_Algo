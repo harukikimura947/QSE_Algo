{
 "cells": [
  {
   "cell_type": "code",
   "execution_count": 3,
   "id": "cb138ec2-c3e4-48ff-b04b-ecef5165c674",
   "metadata": {},
   "outputs": [],
   "source": [
    "import numpy as np\n",
    "import foapgb\n",
    "\n",
    "from scipy.spatial import distance"
   ]
  },
  {
   "cell_type": "code",
   "execution_count": 4,
   "id": "742c1e78-1976-470d-aa0c-20f27e2f0003",
   "metadata": {},
   "outputs": [
    {
     "name": "stdout",
     "output_type": "stream",
     "text": [
      "PowerPoint presentation saved as 'output_presentation.pptx'.\n"
     ]
    }
   ],
   "source": [
    "import matplotlib.pyplot as plt\n",
    "import io\n",
    "from PIL import Image, ImageDraw\n",
    "import numpy as np\n",
    "from pptx import Presentation\n",
    "from pptx.util import Inches\n",
    "\n",
    "# 画像を作成する関数\n",
    "def create_image(size, shape='circle', color='red', intensity=0.5):\n",
    "    img = Image.new('RGB', (size, size), (255, 255, 255))\n",
    "    draw = ImageDraw.Draw(img)\n",
    "    \n",
    "    # 円形を描画する例\n",
    "    if shape == 'circle':\n",
    "        radius = int(size * intensity / 2)\n",
    "        center = (size // 2, size // 2)\n",
    "        draw.ellipse([center[0] - radius, center[1] - radius,\n",
    "                      center[0] + radius, center[1] + radius], fill=color)\n",
    "    \n",
    "    return img\n",
    "\n",
    "# PowerPointのプレゼンテーションを作成\n",
    "prs = Presentation()\n",
    "\n",
    "# グリッドのサイズ\n",
    "grid_size = 11  # 行・列のサイズ\n",
    "img_size = 60  # 画像のピクセルサイズ\n",
    "img_path_template = \"image_{:02d}_{:02d}.png\"  # 画像の保存パス\n",
    "\n",
    "# スライドを追加\n",
    "slide_layout = prs.slide_layouts[5]  # 空のレイアウトを選択\n",
    "slide = prs.slides.add_slide(slide_layout)\n",
    "\n",
    "# 画像を順に生成し、PowerPointに配置\n",
    "for i in range(grid_size):\n",
    "    for j in range(grid_size):\n",
    "        # 画像を生成\n",
    "        intensity = (i + j + 1) / (grid_size * 2)  # 色の濃さを変化\n",
    "        img = create_image(img_size, intensity=intensity)\n",
    "        \n",
    "        # 画像をメモリバッファに保存\n",
    "        img_buffer = io.BytesIO()\n",
    "        img.save(img_buffer, format=\"png\")\n",
    "        img_buffer.seek(0)  # バッファの先頭に戻す\n",
    "        \n",
    "        # 画像の一時保存\n",
    "        # img_path = img_path_template.format(i, j)\n",
    "        # img.save(img_path)\n",
    "\n",
    "        # PowerPointに画像を追加\n",
    "        left = Inches(1.5 + j * 0.6)  # 左からの配置位置\n",
    "        top = Inches(0.3 + i * 0.6)   # 上からの配置位置\n",
    "        slide.shapes.add_picture(img_buffer, left, top, width=Inches(0.5), height=Inches(0.5))\n",
    "\n",
    "# PowerPointファイルの保存\n",
    "prs.save(\"output_presentation.pptx\")\n",
    "print(\"PowerPoint presentation saved as 'output_presentation.pptx'.\")"
   ]
  },
  {
   "cell_type": "code",
   "execution_count": 5,
   "id": "99424258-477e-4276-8418-e26990871f23",
   "metadata": {},
   "outputs": [
    {
     "name": "stdout",
     "output_type": "stream",
     "text": [
      "theta_N= 1.0\n",
      "theta_M= 1.0\n",
      "t= 0.1\n",
      "tau= 0.5\n"
     ]
    }
   ],
   "source": [
    "# Number of columns\n",
    "Num_Cols = 50\n",
    "\n",
    "# 格子は0-10に存在するする\n",
    "Spartial_Scaling = 10/(Num_Cols)\n",
    "\n",
    "city_network = foapgb.make_lattice(Num_Cols)\n",
    "K = Num_Cols * Num_Cols\n",
    "\n",
    "# 通勤費用パラメータ\n",
    "t = 0.1\n",
    "\n",
    "# 距離抵抗パラメータ\n",
    "tau = 0.5\n",
    "\n",
    "# 労働投入量\n",
    "L = 1.0\n",
    "\n",
    "# 総土地供給量は100*100=100とする\n",
    "Total_S = 100\n",
    "\n",
    "Coordinate_Data = \\\n",
    "np.array([(city_network['node_dic'][str(i)]['x_pos']*Spartial_Scaling, \n",
    "           city_network['node_dic'][str(i)]['y_pos']*Spartial_Scaling) for i in range(K)])\n",
    "distance_matrix = distance.squareform(distance.pdist(Coordinate_Data))\n",
    "\n",
    "\n",
    "# theta -> infty = deterministic model \n",
    "theta_N = 1.0\n",
    "theta_M = 1.0\n",
    "\n",
    "def m_image(prm, m, max_flag=True):\n",
    "   \n",
    "    Num_Cols = int(np.sqrt(prm.K))\n",
    "    mat = np.reshape(m, (Num_Cols, Num_Cols))\n",
    "    \n",
    "    plt.figure(figsize=(5,5))\n",
    "    if max_flag:\n",
    "        plt.imshow(mat, interpolation='nearest', vmin=0.0, vmax=prm.S.max(), cmap='Reds')\n",
    "    else:\n",
    "        plt.imshow(mat, interpolation='nearest', cmap='Reds')\n",
    "        \n",
    "    plt.gca().invert_yaxis()\n",
    "    plt.xticks([])\n",
    "    plt.yticks([])\n",
    "    \n",
    "    buf = io.BytesIO()\n",
    "    plt.savefig(buf, format=\"png\", bbox_inches=\"tight\")\n",
    "    plt.close()\n",
    "    buf.seek(0)\n",
    "    \n",
    "    return Image.open(buf)\n",
    "\n",
    "print('theta_N=', theta_N)\n",
    "print('theta_M=', theta_M)\n",
    "\n",
    "print('t=', t)\n",
    "print('tau=', tau)"
   ]
  },
  {
   "cell_type": "code",
   "execution_count": 6,
   "id": "245ba2b4-9843-4239-a331-5bc5992ffb4f",
   "metadata": {},
   "outputs": [],
   "source": [
    "prm = foapgb.Parameter(K, distance_matrix, t, tau, L, Total_S, theta_M, theta_N)\n",
    "sub = foapgb.Sub(prm)\n",
    "\n",
    "master = foapgb.Master(prm, sub, itr_max_sub=10000, err_sub=10**(-3))"
   ]
  },
  {
   "cell_type": "code",
   "execution_count": 7,
   "id": "047ef5a2-c47f-4eb9-839e-4f60b08eaf9a",
   "metadata": {},
   "outputs": [],
   "source": [
    "# 初期解を均等分布で与える場合\n",
    "m0 = prm.M * (np.ones(K)/K)\n",
    "\n",
    "# 初期解をランダムに与える場合\n",
    "# m0 = master.make_random_m()"
   ]
  },
  {
   "cell_type": "code",
   "execution_count": 8,
   "id": "ec1519ec-670f-46c4-8464-e981f6b8c6fe",
   "metadata": {},
   "outputs": [
    {
     "name": "stdout",
     "output_type": "stream",
     "text": [
      "CPU times: total: 1.36 s\n",
      "Wall time: 1.35 s\n"
     ]
    }
   ],
   "source": [
    "%%time\n",
    "m_hist, F_hist = master.solve(m0=m0, err_mas=10**(-4), max_itr=10000, Lip=1500)"
   ]
  },
  {
   "cell_type": "code",
   "execution_count": 9,
   "id": "26ee4967-4f74-49b4-a538-96b1748eb97c",
   "metadata": {},
   "outputs": [
    {
     "data": {
      "image/png": "[encoded data removed]",
      "text/plain": [
       "<PIL.PngImagePlugin.PngImageFile image mode=RGBA size=405x405>"
      ]
     },
     "execution_count": 9,
     "metadata": {},
     "output_type": "execute_result"
    }
   ],
   "source": [
    "hist_num = len(m_hist)\n",
    "img = m_image(prm, m_hist[hist_num-1])\n",
    "img"
   ]
  },
  {
   "cell_type": "code",
   "execution_count": 10,
   "id": "413877f9-ded9-4116-9f16-1b4799dd3151",
   "metadata": {},
   "outputs": [],
   "source": [
    "# 企業の初期立地パターンを設定する関数\n",
    "def set_initial_pattern(init, alpha=0.0):\n",
    "    center = [K//2+Col//2, #真ん中（空間の中心）\n",
    "              0, #左上角\n",
    "              Col//2, #上端，下端\n",
    "              K//2, #中央右端，中央左端\n",
    "              Col//4+K//4, \n",
    "              3*Col//4+K//4,\n",
    "              Col//4+3*K//4,\n",
    "              3*Col//4+3*K//4,\n",
    "              Col//4,\n",
    "              3*Col//4,\n",
    "              K//4,\n",
    "              3*K//4,\n",
    "              Col//2+K//4,\n",
    "              Col//4+K//2,\n",
    "              3*Col//4+K//2,\n",
    "              Col//2+3*K//4]\n",
    "\n",
    "    firm.fill(0.0)\n",
    "    \n",
    "    if init in [-1, -2]:\n",
    "        # ファイルから読み込み (仮にファイル処理は無視)\n",
    "        print(f\"tau = {tau:.3f}, t = {t:.3f}, 初期立地: ファイルから\")\n",
    "        filename = f\"input{-init}.txt\"\n",
    "        try:\n",
    "            with open(filename, \"r\") as file:\n",
    "                for i in range(K):\n",
    "                    firm[i] = float(file.readline())\n",
    "        except FileNotFoundError:\n",
    "            print(\"File Open Failed.\")\n",
    "            return\n",
    "\n",
    "    elif init == 0:\n",
    "        print(f\"tau = {tau:.3f}, t = {t:.3f}, 初期立地: 一様分布\")\n",
    "        firm.fill(M/K)\n",
    "\n",
    "    elif init in [1, 2, 4, 8, 16]:\n",
    "        print(f\"tau = {tau:.3f}, t = {t:.3f}, 初期立地: {init}極集中\")\n",
    "        area = M / S / init\n",
    "        ai = int(area)\n",
    "        print(\"init:\", init)\n",
    "        print(\"ai:\", ai)\n",
    "        for cnt in range(init):\n",
    "            i = center[cnt] #iはノード番号\n",
    "            for y in range(ai):\n",
    "                j = int(((delta[y] // Col + i // Col) % Col) * Col + (delta[y] % Col + i % Col) % Col)\n",
    "                print(\"j:\", j)\n",
    "                firm[j] = S\n",
    "            \n",
    "            print(\"y:\", y)\n",
    "            firm[y] = (area - ai) * S\n",
    "\n",
    "    elif init == 3:\n",
    "        print(f\"tau = {tau:.3f}, t = {t:.3f}, 初期立地: 二極と四極(a = {alpha})\")\n",
    "        for cnt in range(2):\n",
    "            i = center[cnt]\n",
    "            for y in range(int(M / S / 2)):\n",
    "                j = ((delta[y] // Col + i // Col) % Col) * Col + (delta[y] % Col + i % Col) % Col\n",
    "                firm[j] += S * (1.0 - alpha)\n",
    "        for cnt in range(4):\n",
    "            i = center[cnt]\n",
    "            for y in range(int(M / S / 4)):\n",
    "                j = ((delta[y] // Col + i // Col) % Col) * Col + (delta[y] % Col + i % Col) % Col\n",
    "                firm[j] += S * alpha\n",
    "\n",
    "    else:\n",
    "        print(f\"tau = {tau:.3f}, t = {t:.3f}, 初期立地: ランダム\")\n",
    "        m = M\n",
    "        x = S\n",
    "        random.seed()\n",
    "        while m > Epsilon:\n",
    "            i = random.randint(0, K-1)\n",
    "            if firm[i] <= S - x:\n",
    "                firm[i] += x\n",
    "                m -= x\n",
    "\n",
    "# 距離計算 (仮実装)\n",
    "def distance(i, j):\n",
    "    return abs(i - j)\n",
    "\n",
    "# Z1の計算\n",
    "def calc_Z1(init):\n",
    "    Z1 = 0.0\n",
    "    if init == 0:\n",
    "        for i in range(K):\n",
    "            Z1 -= 0.5 * np.exp(-tau * distance(i, 0)) * firm[i] * firm[0]\n",
    "        Z1 *= K\n",
    "    elif init in [1, 2, 4, 8, 16]:\n",
    "        c = K // 2 + Col // 2\n",
    "        for i in range(K):\n",
    "            for y in range(int(M / S / init)):\n",
    "                j = ((delta[y] // Col + c // Col) % Col) * Col + (c % Col + delta[y] % Col) % Col\n",
    "                Z1 -= 0.5 * np.exp(-tau * distance(i, j)) * firm[i] * firm[j]\n",
    "        Z1 *= init\n",
    "    else:\n",
    "        for i in range(K):\n",
    "            for j in range(K):\n",
    "                Z1 -= 0.5 * np.exp(-tau * distance(i, j)) * firm[i] * firm[j]\n",
    "    return Z1\n",
    "\n",
    "# 近似目的関数\n",
    "def rough_potential(init):\n",
    "    Z1 = calc_Z1(init)\n",
    "    Z2 = 0.0\n",
    "    if init == 0:\n",
    "        Z2 = 0.0\n",
    "    elif init in [1, 2, 4, 8, 16]:\n",
    "        Z2 = 0.1165 * t / math.sqrt(init)\n",
    "    else:\n",
    "        Z2 = t * obj_sub\n",
    "    return Z1 + Z2"
   ]
  },
  {
   "cell_type": "code",
   "execution_count": 11,
   "id": "8288b6d3-8fab-40b0-855d-fd4aa8fee309",
   "metadata": {
    "tags": []
   },
   "outputs": [],
   "source": [
    "firm = np.zeros(K)\n",
    "delta = np.arange(1, K+1)  # 仮の値"
   ]
  },
  {
   "cell_type": "code",
   "execution_count": 12,
   "id": "c6741af1-c5bd-4038-bde2-a44db3ebdbf3",
   "metadata": {},
   "outputs": [
    {
     "ename": "NameError",
     "evalue": "name 'Col' is not defined",
     "output_type": "error",
     "traceback": [
      "\u001b[1;31m---------------------------------------------------------------------------\u001b[0m",
      "\u001b[1;31mNameError\u001b[0m                                 Traceback (most recent call last)",
      "Cell \u001b[1;32mIn[12], line 1\u001b[0m\n\u001b[1;32m----> 1\u001b[0m \u001b[43mset_initial_pattern\u001b[49m\u001b[43m(\u001b[49m\u001b[43minit\u001b[49m\u001b[38;5;241;43m=\u001b[39;49m\u001b[38;5;241;43m2\u001b[39;49m\u001b[43m)\u001b[49m\n",
      "Cell \u001b[1;32mIn[10], line 3\u001b[0m, in \u001b[0;36mset_initial_pattern\u001b[1;34m(init, alpha)\u001b[0m\n\u001b[0;32m      2\u001b[0m \u001b[38;5;28;01mdef\u001b[39;00m \u001b[38;5;21mset_initial_pattern\u001b[39m(init, alpha\u001b[38;5;241m=\u001b[39m\u001b[38;5;241m0.0\u001b[39m):\n\u001b[1;32m----> 3\u001b[0m     center \u001b[38;5;241m=\u001b[39m [K\u001b[38;5;241m/\u001b[39m\u001b[38;5;241m/\u001b[39m\u001b[38;5;241m2\u001b[39m\u001b[38;5;241m+\u001b[39m\u001b[43mCol\u001b[49m\u001b[38;5;241m/\u001b[39m\u001b[38;5;241m/\u001b[39m\u001b[38;5;241m2\u001b[39m, \u001b[38;5;66;03m#真ん中（空間の中心）\u001b[39;00m\n\u001b[0;32m      4\u001b[0m               \u001b[38;5;241m0\u001b[39m, \u001b[38;5;66;03m#左上角\u001b[39;00m\n\u001b[0;32m      5\u001b[0m               Col\u001b[38;5;241m/\u001b[39m\u001b[38;5;241m/\u001b[39m\u001b[38;5;241m2\u001b[39m, \u001b[38;5;66;03m#上端，下端\u001b[39;00m\n\u001b[0;32m      6\u001b[0m               K\u001b[38;5;241m/\u001b[39m\u001b[38;5;241m/\u001b[39m\u001b[38;5;241m2\u001b[39m, \u001b[38;5;66;03m#中央右端，中央左端\u001b[39;00m\n\u001b[0;32m      7\u001b[0m               Col\u001b[38;5;241m/\u001b[39m\u001b[38;5;241m/\u001b[39m\u001b[38;5;241m4\u001b[39m\u001b[38;5;241m+\u001b[39mK\u001b[38;5;241m/\u001b[39m\u001b[38;5;241m/\u001b[39m\u001b[38;5;241m4\u001b[39m, \n\u001b[0;32m      8\u001b[0m               \u001b[38;5;241m3\u001b[39m\u001b[38;5;241m*\u001b[39mCol\u001b[38;5;241m/\u001b[39m\u001b[38;5;241m/\u001b[39m\u001b[38;5;241m4\u001b[39m\u001b[38;5;241m+\u001b[39mK\u001b[38;5;241m/\u001b[39m\u001b[38;5;241m/\u001b[39m\u001b[38;5;241m4\u001b[39m,\n\u001b[0;32m      9\u001b[0m               Col\u001b[38;5;241m/\u001b[39m\u001b[38;5;241m/\u001b[39m\u001b[38;5;241m4\u001b[39m\u001b[38;5;241m+\u001b[39m\u001b[38;5;241m3\u001b[39m\u001b[38;5;241m*\u001b[39mK\u001b[38;5;241m/\u001b[39m\u001b[38;5;241m/\u001b[39m\u001b[38;5;241m4\u001b[39m,\n\u001b[0;32m     10\u001b[0m               \u001b[38;5;241m3\u001b[39m\u001b[38;5;241m*\u001b[39mCol\u001b[38;5;241m/\u001b[39m\u001b[38;5;241m/\u001b[39m\u001b[38;5;241m4\u001b[39m\u001b[38;5;241m+\u001b[39m\u001b[38;5;241m3\u001b[39m\u001b[38;5;241m*\u001b[39mK\u001b[38;5;241m/\u001b[39m\u001b[38;5;241m/\u001b[39m\u001b[38;5;241m4\u001b[39m,\n\u001b[0;32m     11\u001b[0m               Col\u001b[38;5;241m/\u001b[39m\u001b[38;5;241m/\u001b[39m\u001b[38;5;241m4\u001b[39m,\n\u001b[0;32m     12\u001b[0m               \u001b[38;5;241m3\u001b[39m\u001b[38;5;241m*\u001b[39mCol\u001b[38;5;241m/\u001b[39m\u001b[38;5;241m/\u001b[39m\u001b[38;5;241m4\u001b[39m,\n\u001b[0;32m     13\u001b[0m               K\u001b[38;5;241m/\u001b[39m\u001b[38;5;241m/\u001b[39m\u001b[38;5;241m4\u001b[39m,\n\u001b[0;32m     14\u001b[0m               \u001b[38;5;241m3\u001b[39m\u001b[38;5;241m*\u001b[39mK\u001b[38;5;241m/\u001b[39m\u001b[38;5;241m/\u001b[39m\u001b[38;5;241m4\u001b[39m,\n\u001b[0;32m     15\u001b[0m               Col\u001b[38;5;241m/\u001b[39m\u001b[38;5;241m/\u001b[39m\u001b[38;5;241m2\u001b[39m\u001b[38;5;241m+\u001b[39mK\u001b[38;5;241m/\u001b[39m\u001b[38;5;241m/\u001b[39m\u001b[38;5;241m4\u001b[39m,\n\u001b[0;32m     16\u001b[0m               Col\u001b[38;5;241m/\u001b[39m\u001b[38;5;241m/\u001b[39m\u001b[38;5;241m4\u001b[39m\u001b[38;5;241m+\u001b[39mK\u001b[38;5;241m/\u001b[39m\u001b[38;5;241m/\u001b[39m\u001b[38;5;241m2\u001b[39m,\n\u001b[0;32m     17\u001b[0m               \u001b[38;5;241m3\u001b[39m\u001b[38;5;241m*\u001b[39mCol\u001b[38;5;241m/\u001b[39m\u001b[38;5;241m/\u001b[39m\u001b[38;5;241m4\u001b[39m\u001b[38;5;241m+\u001b[39mK\u001b[38;5;241m/\u001b[39m\u001b[38;5;241m/\u001b[39m\u001b[38;5;241m2\u001b[39m,\n\u001b[0;32m     18\u001b[0m               Col\u001b[38;5;241m/\u001b[39m\u001b[38;5;241m/\u001b[39m\u001b[38;5;241m2\u001b[39m\u001b[38;5;241m+\u001b[39m\u001b[38;5;241m3\u001b[39m\u001b[38;5;241m*\u001b[39mK\u001b[38;5;241m/\u001b[39m\u001b[38;5;241m/\u001b[39m\u001b[38;5;241m4\u001b[39m]\n\u001b[0;32m     20\u001b[0m     firm\u001b[38;5;241m.\u001b[39mfill(\u001b[38;5;241m0.0\u001b[39m)\n\u001b[0;32m     22\u001b[0m     \u001b[38;5;28;01mif\u001b[39;00m init \u001b[38;5;129;01min\u001b[39;00m [\u001b[38;5;241m-\u001b[39m\u001b[38;5;241m1\u001b[39m, \u001b[38;5;241m-\u001b[39m\u001b[38;5;241m2\u001b[39m]:\n\u001b[0;32m     23\u001b[0m         \u001b[38;5;66;03m# ファイルから読み込み (仮にファイル処理は無視)\u001b[39;00m\n",
      "\u001b[1;31mNameError\u001b[0m: name 'Col' is not defined"
     ]
    }
   ],
   "source": [
    "set_initial_pattern(init=2)"
   ]
  },
  {
   "cell_type": "code",
   "execution_count": null,
   "id": "eff9bf47-303e-49ad-b37a-5471edbd1749",
   "metadata": {},
   "outputs": [],
   "source": [
    "#画像を一時保存する場合\n",
    "import matplotlib.pyplot as plt\n",
    "import foapgb\n",
    "import numpy as np\n",
    "import io\n",
    "from pptx import Presentation\n",
    "from PIL import Image\n",
    "from pptx.util import Inches\n",
    "\n",
    "def m_image(prm, m, max_flag=True):\n",
    "   \n",
    "    Num_Cols = int(np.sqrt(prm.K))\n",
    "    mat = np.reshape(m, (Num_Cols, Num_Cols))\n",
    "    \n",
    "    plt.figure(figsize=(5,5))\n",
    "    if max_flag:\n",
    "        plt.imshow(mat, interpolation='nearest', vmin=0.0, vmax=prm.S.max(), cmap='bwr')\n",
    "    else:\n",
    "        plt.imshow(mat, interpolation='nearest', cmap='bwr')\n",
    "        \n",
    "    plt.gca().invert_yaxis()\n",
    "    plt.xticks([])\n",
    "    plt.yticks([])\n",
    "    \n",
    "    buf = io.BytesIO()\n",
    "    plt.savefig(buf, format=\"png\", bbox_inches=\"tight\")\n",
    "    plt.close()\n",
    "    buf.seek(0)\n",
    "    \n",
    "    return Image.open(buf)\n",
    "\n",
    "\n",
    "# PowerPointのプレゼンテーションを作成\n",
    "prs = Presentation()\n",
    "\n",
    "# グリッドのサイズ\n",
    "grid_size = 11  # 行・列のサイズ\n",
    "# img_size = 60  # 画像のピクセルサイズ\n",
    "img_path_template = \"image_{:02d}_{:02d}.png\"  # 画像の保存パス\n",
    "\n",
    "# スライドを追加\n",
    "slide_layout = prs.slide_layouts[5]  # 空のレイアウトを選択\n",
    "slide = prs.slides.add_slide(slide_layout)\n",
    "\n",
    "# 画像を順に生成し、PowerPointに配置\n",
    "for i in range(grid_size):\n",
    "    for j in range(grid_size):\n",
    "        # 画像を生成\n",
    "        m_hist, F_hist = master.solve(m0=m0, err_mas=10**(-4), max_itr=100, Lip=1500)\n",
    "        hist_num = len(m_hist)\n",
    "        img = m_image(prm, m_hist[len(m_hist)-1])\n",
    "        \n",
    "        # 画像の一時保存\n",
    "        img_path = img_path_template.format(i, j)\n",
    "        img.save(img_path)\n",
    "\n",
    "        # PowerPointに画像を追加\n",
    "        left = Inches(1.5 + j * 0.6)  # 左からの配置位置\n",
    "        top = Inches(0.3 + i * 0.6)   # 上からの配置位置\n",
    "        slide.shapes.add_picture(img_path, left, top, width=Inches(0.5), height=Inches(0.5))\n",
    "\n",
    "# PowerPointファイルの保存\n",
    "prs.save(\"output_presentation.pptx\")\n",
    "print(\"PowerPoint presentation saved as 'output_presentation.pptx'.\")"
   ]
  },
  {
   "cell_type": "code",
   "execution_count": 53,
   "id": "1f351f8e-e62e-49e9-ab30-02dd34def86c",
   "metadata": {},
   "outputs": [
    {
     "name": "stdout",
     "output_type": "stream",
     "text": [
      "CPU times: total: 15.4 s\n",
      "Wall time: 15.4 s\n"
     ]
    }
   ],
   "source": [
    "%%time\n",
    "#画像を一時保存しない場合\n",
    "#exampleのパラメータ，grid=(11, 11)で，3分半くらい．\n",
    "#theta=50の場合，1画像描画するのに，10分．\n",
    "import matplotlib.pyplot as plt\n",
    "import foapgb\n",
    "import numpy as np\n",
    "import io\n",
    "from pptx import Presentation\n",
    "from PIL import Image\n",
    "from pptx.util import Inches\n",
    "\n",
    "def m_image(prm, m, max_flag=True):\n",
    "   \n",
    "    Num_Cols = int(np.sqrt(prm.K))\n",
    "    mat = np.reshape(m, (Num_Cols, Num_Cols))\n",
    "    \n",
    "    plt.figure(figsize=(5,5))\n",
    "    if max_flag:\n",
    "        plt.imshow(mat, interpolation='nearest', vmin=0.0, vmax=prm.S.max(), cmap='Reds')\n",
    "    else:\n",
    "        plt.imshow(mat, interpolation='nearest', cmap='Reds')\n",
    "        \n",
    "    plt.gca().invert_yaxis()\n",
    "    plt.xticks([])\n",
    "    plt.yticks([])\n",
    "    \n",
    "    buf = io.BytesIO()\n",
    "    plt.savefig(buf, format=\"png\", bbox_inches=\"tight\")\n",
    "    plt.close()\n",
    "    buf.seek(0)\n",
    "    \n",
    "    return buf\n",
    "\n",
    "\n",
    "# PowerPointのプレゼンテーションを作成\n",
    "prs = Presentation()\n",
    "\n",
    "# グリッドのサイズ\n",
    "grid_size = 3  # 行・列のサイズ\n",
    "# img_size = 60  # 画像のピクセルサイズ\n",
    "img_path_template = \"image_{:02d}_{:02d}.png\"  # 画像の保存パス\n",
    "\n",
    "# スライドを追加\n",
    "slide_layout = prs.slide_layouts[5]  # 空のレイアウトを選択\n",
    "slide = prs.slides.add_slide(slide_layout)\n",
    "\n",
    "# 画像を順に生成し、PowerPointに配置\n",
    "for i in range(grid_size):\n",
    "    for j in range(grid_size):\n",
    "        # 画像を生成\n",
    "        m_hist, F_hist = master.solve(m0=m0, err_mas=10**(-4), max_itr=100, Lip=1500)\n",
    "        hist_num = len(m_hist)\n",
    "        img_buffer = m_image(prm, m_hist[len(m_hist)-1])\n",
    "\n",
    "        # PowerPointに画像を追加\n",
    "        left = Inches(1.5 + j * 0.6)  # 左からの配置位置\n",
    "        top = Inches(0.3 + i * 0.6)   # 上からの配置位置\n",
    "        slide.shapes.add_picture(img_buffer, left, top, width=Inches(0.5), height=Inches(0.5))\n",
    "\n",
    "# PowerPointファイルの保存\n",
    "prs.save(\"output_presentation.pptx\")\n",
    "# print(\"PowerPoint presentation saved as 'output_presentation.pptx'.\")"
   ]
  },
  {
   "cell_type": "code",
   "execution_count": 63,
   "id": "31e12a42-7d10-49cd-ac5d-f8b8a8f54678",
   "metadata": {},
   "outputs": [],
   "source": [
    "A = np.exp(1)\n",
    "B = np.exp(2)\n",
    "C = np.exp(3)"
   ]
  },
  {
   "cell_type": "code",
   "execution_count": 64,
   "id": "91ccce8b-bab3-47cf-9bd2-18a88143097a",
   "metadata": {},
   "outputs": [
    {
     "data": {
      "text/plain": [
       "0.09003057317038046"
      ]
     },
     "execution_count": 64,
     "metadata": {},
     "output_type": "execute_result"
    }
   ],
   "source": [
    "A / (A + B + C)"
   ]
  },
  {
   "cell_type": "code",
   "execution_count": 65,
   "id": "087f1c59-be88-4b01-88b3-8237f4baee83",
   "metadata": {},
   "outputs": [],
   "source": [
    "A_dash = np.exp(-2)\n",
    "B_dash = np.exp(-1)\n",
    "C_dash = np.exp(0)"
   ]
  },
  {
   "cell_type": "code",
   "execution_count": 66,
   "id": "db9f5800-67ff-41f3-869f-bf225b60539b",
   "metadata": {},
   "outputs": [
    {
     "data": {
      "text/plain": [
       "0.09003057317038046"
      ]
     },
     "execution_count": 66,
     "metadata": {},
     "output_type": "execute_result"
    }
   ],
   "source": [
    "A_dash / (A_dash + B_dash + C_dash)"
   ]
  },
  {
   "cell_type": "code",
   "execution_count": null,
   "id": "5ba9f066-1812-469c-a27e-9eb3fc5688d3",
   "metadata": {},
   "outputs": [],
   "source": []
  }
 ],
 "metadata": {
  "kernelspec": {
   "display_name": "Python 3 (ipykernel)",
   "language": "python",
   "name": "python3"
  },
  "language_info": {
   "codemirror_mode": {
    "name": "ipython",
    "version": 3
   },
   "file_extension": ".py",
   "mimetype": "text/x-python",
   "name": "python",
   "nbconvert_exporter": "python",
   "pygments_lexer": "ipython3",
   "version": "3.10.9"
  }
 },
 "nbformat": 4,
 "nbformat_minor": 5
}
