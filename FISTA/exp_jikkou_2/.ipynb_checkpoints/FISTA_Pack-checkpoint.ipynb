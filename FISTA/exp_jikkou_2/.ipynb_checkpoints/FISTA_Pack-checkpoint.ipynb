{
 "cells": [
  {
   "cell_type": "code",
   "execution_count": 1,
   "id": "5bb72e7f-891e-46b9-9cbc-fcbd979c3b4b",
   "metadata": {},
   "outputs": [],
   "source": [
    "import numpy as np\n",
    "from scipy.optimize import minimize\n",
    "from scipy.spatial import distance\n",
    "from exp_nume_ex import lattice"
   ]
  },
  {
   "cell_type": "code",
   "execution_count": 3,
   "id": "78625e1e-343d-4d0a-b6ce-4a0d0397bb9b",
   "metadata": {},
   "outputs": [],
   "source": [
    "E = 5\n",
    "Col = 30\n",
    "K = Col * Col\n",
    "int_Col = 30\n",
    "int_K = int_Col * int_Col\n",
    "M = 1.0\n",
    "N = 1.0\n",
    "Scaling = 10.0 / int_Col\n",
    "alter_T_num = 0.5\n",
    "S_total = 100\n",
    "S_bar = S_total / int_K\n",
    "t = 0.1\n",
    "alpha_1 = 0.4\n",
    "alpha_2 = 0.4\n",
    "beta_1 = 0.4\n",
    "beta_2 = 0.4\n",
    "\n",
    "city_network = lattice.make_lattice(Col)\n",
    "\n",
    "Coordinate_Data = \\\n",
    "np.array([(city_network['node_dic'][str(i)]['x_pos']*Scaling,\n",
    "           city_network['node_dic'][str(i)]['y_pos']*Scaling) for i in range(K)])\n",
    "distance_matrix = distance.squareform(distance.pdist(Coordinate_Data))"
   ]
  },
  {
   "cell_type": "code",
   "execution_count": null,
   "id": "068c657e-390b-48ad-9607-8f63d1cfa90d",
   "metadata": {},
   "outputs": [],
   "source": []
  }
 ],
 "metadata": {
  "kernelspec": {
   "display_name": "Python 3 (ipykernel)",
   "language": "python",
   "name": "python3"
  },
  "language_info": {
   "codemirror_mode": {
    "name": "ipython",
    "version": 3
   },
   "file_extension": ".py",
   "mimetype": "text/x-python",
   "name": "python",
   "nbconvert_exporter": "python",
   "pygments_lexer": "ipython3",
   "version": "3.10.9"
  }
 },
 "nbformat": 4,
 "nbformat_minor": 5
}
