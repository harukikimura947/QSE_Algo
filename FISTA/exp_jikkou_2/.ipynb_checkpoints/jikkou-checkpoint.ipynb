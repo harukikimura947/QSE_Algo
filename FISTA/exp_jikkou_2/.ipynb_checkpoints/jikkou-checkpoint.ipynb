{
 "cells": [
  {
   "cell_type": "code",
   "execution_count": 1,
   "id": "dfc68b9f-98cc-4384-8cd6-68e403d0ffa2",
   "metadata": {},
   "outputs": [],
   "source": [
    "from exp_nume_ex import exp_Short_FISTA\n",
    "from exp_nume_ex import shusei_exp_Short_FISTA\n",
    "from exp_nume_ex import exp_Long_FISTA\n",
    "from exp_nume_ex import lattice\n",
    "from exp_nume_ex import exp_kakunou\n",
    "from exp_nume_ex import exp_qseplot\n",
    "from exp_nume_ex import exp_parameter\n",
    "import time\n",
    "import numpy as np\n",
    "import pandas as pd\n",
    "import scipy.optimize as optimize\n",
    "import scipy.sparse as spsp\n",
    "import matplotlib.pyplot as plt\n",
    "import csv\n",
    "import os\n",
    "import cProfile\n",
    "import pstats\n",
    "\n",
    "from scipy.spatial import distance\n",
    "from scipy.optimize import linprog\n",
    "from scipy.optimize import minimize\n",
    "from collections import defaultdict\n",
    "from mpl_toolkits.mplot3d import Axes3D"
   ]
  },
  {
   "cell_type": "code",
   "execution_count": 2,
   "id": "fee63ecd-8d18-478c-8f3e-b9dad10556e8",
   "metadata": {},
   "outputs": [],
   "source": [
    "E = 5\n",
    "Col = 10\n",
    "\n",
    "K = Col * Col\n",
    "\n",
    "M = 0.1 * K\n",
    "N = 0.1 * K\n",
    "\n",
    "# Scaling * tが格子の最小距離となる。\n",
    "Scaling = 30\n",
    "alter_T_num = 0.5\n",
    "\n",
    "city_network = lattice.make_lattice(Col)\n",
    "\n",
    "# 通勤費用パラメータ\n",
    "t = 0.1\n",
    "\n",
    "# 距離抵抗パラメータ\n",
    "tau = 0.01\n",
    "\n",
    "# 総土地供給量\n",
    "S_total = K\n",
    "S_bar = S_total / K\n",
    "\n",
    "Coordinate_Data = \\\n",
    "np.array([(city_network['node_dic'][str(i)]['x_pos']*Scaling,\n",
    "           city_network['node_dic'][str(i)]['y_pos']*Scaling) for i in range(K)])\n",
    "distance_matrix = distance.squareform(distance.pdist(Coordinate_Data))\n",
    "\n",
    "theta_firm = 1.0\n",
    "theta_house = 1.0\n",
    "\n",
    "alpha_1 = 0.4\n",
    "alpha_2 = 0.4\n",
    "beta_1 = 0.4\n",
    "beta_2 = 0.4\n",
    "\n",
    "L = 0.2\n",
    "eta = 1.2\n",
    "p_proj = 1e-3\n",
    "\n",
    "RW_ini = 1.0\n",
    "RW_proj = 1e-3\n",
    "\n",
    "err_short = 1e-5\n",
    "err_long = 1e-3\n",
    "obj_corr = 1.0\n",
    "\n",
    "m_per = M / K\n",
    "m0 = np.array([m_per] * K)\n",
    "n0 = np.full((K, K), N / (K * K)).flatten()\n",
    "\n",
    "method = \"FISTA\"\n",
    "dic = \"Scaling=30\"\n",
    "\n",
    "#パラメータ設定\n",
    "prm = exp_parameter.Parameter(\n",
    "            Col, distance_matrix, t, tau, Scaling, S_total, S_bar,\n",
    "            theta_firm, theta_house, E, RW_proj, alter_T_num,\n",
    "            alpha_1, alpha_2, beta_1, beta_2, M, N)\n",
    "\n",
    "algprm = exp_parameter.Algo_Parameter(L, eta, p_proj)\n",
    "short = exp_Short_FISTA.Short(prm, algprm)\n",
    "shusei_short = shusei_exp_Short_FISTA.Short(prm, algprm)\n",
    "long = exp_Long_FISTA.Long(prm, algprm, short)"
   ]
  },
  {
   "cell_type": "code",
   "execution_count": 3,
   "id": "455f92b8-db14-4bee-8d6f-2e83873b1c3b",
   "metadata": {},
   "outputs": [
    {
     "name": "stdout",
     "output_type": "stream",
     "text": [
      "long_max_value: 0\n",
      "Lyapunov: -0.0004866317870266812\n",
      "CPU times: total: 1min 6s\n",
      "Wall time: 13.4 s\n"
     ]
    }
   ],
   "source": [
    "%%time\n",
    "m, n, RW, long_iteration, obj_list, obj_rel_list = long.solve(m0, n0, RW_ini, err_short, err_long, obj_corr, long_itr = 100000)"
   ]
  },
  {
   "cell_type": "code",
   "execution_count": null,
   "id": "ac71708b-5579-4b3a-8de6-08b581daacb3",
   "metadata": {},
   "outputs": [],
   "source": []
  }
 ],
 "metadata": {
  "kernelspec": {
   "display_name": "Python 3 (ipykernel)",
   "language": "python",
   "name": "python3"
  },
  "language_info": {
   "codemirror_mode": {
    "name": "ipython",
    "version": 3
   },
   "file_extension": ".py",
   "mimetype": "text/x-python",
   "name": "python",
   "nbconvert_exporter": "python",
   "pygments_lexer": "ipython3",
   "version": "3.10.9"
  }
 },
 "nbformat": 4,
 "nbformat_minor": 5
}
