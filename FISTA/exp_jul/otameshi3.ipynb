{
 "cells": [
  {
   "cell_type": "code",
   "execution_count": 36,
   "id": "642c9ae5-a6df-464a-aaa5-b0f4b7f4045b",
   "metadata": {},
   "outputs": [],
   "source": [
    "using BenchmarkTools\n",
    "using LinearAlgebra\n",
    "using Random\n",
    "using Profile\n",
    "using ProfileView\n",
    "using StatProfilerHTML\n",
    "using StaticArrays\n",
    "using Printf;"
   ]
  },
  {
   "cell_type": "code",
   "execution_count": 2,
   "id": "5cc12142-4dd7-467f-9707-e14a4377af11",
   "metadata": {},
   "outputs": [],
   "source": [
    "function mani_matrix(A::Matrix{Float64}, B::Matrix{Float64})\n",
    "\n",
    "    C = similar(A * B)\n",
    "    mul!(C, A, B)\n",
    "\n",
    "    return C\n",
    "\n",
    "end;"
   ]
  },
  {
   "cell_type": "code",
   "execution_count": 29,
   "id": "aaebf2d6-094c-445c-ae46-e609b5f4118e",
   "metadata": {},
   "outputs": [
    {
     "ename": "LoadError",
     "evalue": "syntax: \"$\" expression outside quote around In[29]:8",
     "output_type": "error",
     "traceback": [
      "syntax: \"$\" expression outside quote around In[29]:8",
      "",
      "Stacktrace:",
      " [1] top-level scope",
      "   @ In[29]:1"
     ]
    }
   ],
   "source": [
    "function mani_matrix2()\n",
    "    \n",
    "    n::Int = 1000\n",
    "    A::Matrix{Float64} = rand(n, n)\n",
    "    B::Matrix{Float64} = rand(n, n)\n",
    "\n",
    "    C = similar(A * B)\n",
    "    mul!($C, $A, $B)\n",
    "    \n",
    "    return C\n",
    "\n",
    "end;"
   ]
  },
  {
   "cell_type": "code",
   "execution_count": 10,
   "id": "df948acf-3f65-4b79-844d-20ad2e13576e",
   "metadata": {},
   "outputs": [],
   "source": [
    "n = 1000\n",
    "A = rand(n, n)\n",
    "B = rand(n, n);"
   ]
  },
  {
   "cell_type": "code",
   "execution_count": 26,
   "id": "f1638d6b-c2f3-41ff-9427-09c6b9210112",
   "metadata": {},
   "outputs": [],
   "source": [
    "function aa()\n",
    "for i in 1:20\n",
    "    println(\"=======================================\")\n",
    "    println(\"Before allocation: \", Base.gc_bytes(), \" bytes\")\n",
    "    mani_matrix2()\n",
    "    println(\"After allocation: \", Base.gc_bytes(), \" bytes\")\n",
    "    \n",
    "    # println(\"After GC: \", Base.gc_bytes(), \" bytes\")\n",
    "end\n",
    "end;"
   ]
  },
  {
   "cell_type": "code",
   "execution_count": null,
   "id": "2a09f5c6-619f-4368-9b13-b99da93a8b6b",
   "metadata": {},
   "outputs": [],
   "source": [
    "aa()"
   ]
  },
  {
   "cell_type": "code",
   "execution_count": 46,
   "id": "c8ec492b-5920-49ec-b8d4-ce8fc3b0e661",
   "metadata": {},
   "outputs": [
    {
     "name": "stdout",
     "output_type": "stream",
     "text": [
      "Before allocation: 16399734311\n",
      "After allocation: 16412729455\n",
      "After GC: 16412749471\n"
     ]
    }
   ],
   "source": [
    "println(\"Before allocation: \", Base.gc_bytes())\n",
    "\n",
    "# メモリ割り当てを伴う操作\n",
    "x = SVector{1000}(rand(1000))\n",
    "\n",
    "println(\"After allocation: \", Base.gc_bytes())\n",
    "\n",
    "x = nothing\n",
    "\n",
    "# 明示的にガベージコレクションを実行\n",
    "GC.gc()\n",
    "\n",
    "println(\"After GC: \", Base.gc_bytes())"
   ]
  },
  {
   "cell_type": "code",
   "execution_count": null,
   "id": "184aa8b7-2971-49aa-ae8e-4a6558c13e65",
   "metadata": {},
   "outputs": [],
   "source": []
  },
  {
   "cell_type": "code",
   "execution_count": null,
   "id": "61a57121-7692-44e9-b44a-ab1a179240c2",
   "metadata": {},
   "outputs": [],
   "source": []
  }
 ],
 "metadata": {
  "kernelspec": {
   "display_name": "Julia 1.10.4",
   "language": "julia",
   "name": "julia-1.10"
  },
  "language_info": {
   "file_extension": ".jl",
   "mimetype": "application/julia",
   "name": "julia",
   "version": "1.10.4"
  }
 },
 "nbformat": 4,
 "nbformat_minor": 5
}
