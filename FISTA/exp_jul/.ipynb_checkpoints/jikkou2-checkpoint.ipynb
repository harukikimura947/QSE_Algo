{
 "cells": [
  {
   "cell_type": "code",
   "execution_count": 1,
   "id": "957bf770-8094-4e21-824f-f51ed112dc3a",
   "metadata": {},
   "outputs": [],
   "source": [
    "include(joinpath(\"module\", \"lattice.jl\"));"
   ]
  },
  {
   "cell_type": "code",
   "execution_count": 2,
   "id": "a550b148-4a58-4a37-8220-e8f22de9facf",
   "metadata": {},
   "outputs": [],
   "source": [
    "include(joinpath(\"module\", \"exp_parameter.jl\"));"
   ]
  },
  {
   "cell_type": "code",
   "execution_count": 3,
   "id": "2b5d97a7-87e4-40b5-a9fa-8f9662f9210d",
   "metadata": {},
   "outputs": [],
   "source": [
    "include(joinpath(\"module\", \"par_exp_short_FISTA.jl\"));"
   ]
  },
  {
   "cell_type": "code",
   "execution_count": 4,
   "id": "f89e18ca-0006-4ed8-97c9-0d73cb7e5780",
   "metadata": {},
   "outputs": [],
   "source": [
    "include(joinpath(\"module\", \"par_exp_Long_FISTA.jl\"));"
   ]
  },
  {
   "cell_type": "code",
   "execution_count": 5,
   "id": "f1c544c6-9859-474a-9212-081397c7b1c5",
   "metadata": {},
   "outputs": [],
   "source": [
    "using BenchmarkTools\n",
    "using .LatticeNetwork\n",
    "using .Parameter\n",
    "using .par_Short\n",
    "using .par_Long\n",
    "using LinearAlgebra\n",
    "using Random\n",
    "using Profile\n",
    "using ProfileView\n",
    "using StatProfilerHTML\n",
    "using Printf;"
   ]
  },
  {
   "cell_type": "code",
   "execution_count": 6,
   "id": "e85e77ab-0d27-48de-8583-8e7ec3229069",
   "metadata": {},
   "outputs": [],
   "source": [
    "# 初期パラメータ設定\n",
    "E = 5\n",
    "Col = 2\n",
    "K = Col * Col\n",
    "M = 1.0\n",
    "N = 1.0\n",
    "Scaling = 10.0 / Col\n",
    "alter_T_num = 0.5\n",
    "\n",
    "# 格子ネットワークを生成\n",
    "city_network = make_lattice(Col)\n",
    "\n",
    "# 通勤費用パラメータ\n",
    "t = 0.1\n",
    "# 距離抵抗パラメータ\n",
    "tau = 0.5\n",
    "# 総土地供給量と平均床面積\n",
    "S_total = 100\n",
    "S_bar = S_total / K\n",
    "\n",
    "# 座標データの生成\n",
    "Coordinate_Data = [ \n",
    "    (city_network[\"node_dic\"][string(i)][\"x_pos\"] * Scaling,\n",
    "     city_network[\"node_dic\"][string(i)][\"y_pos\"] * Scaling) \n",
    "    for i in 0:(K - 1)\n",
    "]\n",
    "\n",
    "# 距離行列の作成\n",
    "distance_matrix = [sqrt(sum((Coordinate_Data[i] .- Coordinate_Data[j]).^2))\n",
    "                   for i in 1:K, j in 1:K]\n",
    "\n",
    "# モデルパラメータ設定\n",
    "theta_firm = 1.0\n",
    "theta_house = 1.0\n",
    "alpha_1 = 0.4\n",
    "alpha_2 = 0.4\n",
    "beta_1 = 0.4\n",
    "beta_2 = 0.4\n",
    "# L = 1.0\n",
    "# eta = 5.0\n",
    "L = 0.2\n",
    "eta = 1.2\n",
    "p_proj = 1e-3\n",
    "RW_ini = 1.0\n",
    "RW_proj = 1e-3\n",
    "err_short = 1e-5\n",
    "err_long = 1e-3\n",
    "obj_corr = 1.0\n",
    "m_per = M / K\n",
    "m0 = fill(m_per, K)\n",
    "n0 = fill(N / (K * K), (K, K))\n",
    "method = \"FISTA\"\n",
    "dic = \"Scaling=30\"\n",
    "\n",
    "K = Col * Col\n",
    "T = max.(Scaling * t * alter_T_num, t * distance_matrix)\n",
    "D = exp.(-tau * distance_matrix)\n",
    "\n",
    "power_S_H_R = (1 - alpha_2) / (1 - alpha_1 - alpha_2)\n",
    "power_S_H_W = alpha_2 / (1 - alpha_1 - alpha_2)\n",
    "power_L_H_R = alpha_1 / (1 - alpha_1 - alpha_2)\n",
    "power_L_H_W = (1 - alpha_1) / (1 - alpha_1 - alpha_2)\n",
    "\n",
    "power_S_F_R = (1 - beta_2) / (1 - beta_1 - beta_2)\n",
    "power_S_F_W = beta_2 / (1 - beta_1 -beta_2)\n",
    "power_L_F_R = beta_1 / (1 - beta_1 - beta_2)\n",
    "power_L_F_W = (1 - beta_1) / (1 - beta_1 - beta_2)\n",
    "\n",
    "T_power = (1 ./ exp.(T)) .^ (1 / (1 - alpha_1 - alpha_2))\n",
    "alpha_S_R = alpha_1 ^ power_S_H_R\n",
    "alpha_S_W = alpha_2 ^ power_S_H_W\n",
    "alpha_L_R = alpha_1 ^ power_L_H_R\n",
    "alpha_L_W = alpha_2 ^ power_L_H_W\n",
    "\n",
    "beta_S_R = beta_1 ^ power_S_F_R\n",
    "beta_S_W = beta_2 ^ power_S_F_W\n",
    "beta_L_R = beta_1 ^ power_L_F_R\n",
    "beta_L_W = beta_2 ^ power_L_F_W\n",
    "\n",
    "RW_S_H = zeros(K, K)\n",
    "RW_L_H = zeros(K, K)\n",
    "\n",
    "T_power_v = (1 - alpha_1 - alpha_2) * T_power\n",
    "pi_beta = 1 - beta_1 - beta_2\n",
    "\n",
    "one_K = ones(K)\n",
    "one_2K = ones(2 * K)\n",
    "\n",
    "R_ini_list = ones(K)\n",
    "W_ini_list = ones(K)\n",
    "RW_ini_list = ones(2 * K)\n",
    "\n",
    "short_itr = 10\n",
    "long_itr = 1000\n",
    "\n",
    "# パラメータオブジェクトの生成\n",
    "prm = st_Parameter(\n",
    "    Col, K, tau, t, Scaling, S_total, S_bar,\n",
    "    theta_firm, theta_house, E, RW_proj,\n",
    "    alpha_1, alpha_2, beta_1, beta_2, alter_T_num,\n",
    "    M, N, distance_matrix, T, D,\n",
    "    power_S_H_R, power_S_H_W, power_L_H_R, power_L_H_W,\n",
    "    power_S_F_R, power_S_F_W, power_L_F_R, power_L_F_W, T_power,\n",
    "    alpha_S_R, alpha_S_W, alpha_L_R, alpha_L_W,\n",
    "    beta_S_R, beta_S_W, beta_L_R, beta_L_W,\n",
    "    T_power_v, pi_beta, one_K, one_2K, RW_S_H, RW_L_H\n",
    ")\n",
    "\n",
    "algprm = st_Algo_Parameter(L, eta, p_proj);"
   ]
  },
  {
   "cell_type": "code",
   "execution_count": 7,
   "id": "e2448469-8991-4bfa-8102-05526b50387d",
   "metadata": {},
   "outputs": [
    {
     "name": "stdout",
     "output_type": "stream",
     "text": [
      "=====================================================\n",
      "iteration:1\n",
      "btra_itr:27\n",
      "L:27.474110393491852\n",
      "dRdW:[24.99713291648818, 24.99713291648818, 24.99713291648818, 24.99713291648818, 1.2471329164881797, 1.2471329164881797, 1.2471329164881797, 1.2471329164881797]\n",
      "RW:[0.09015678548013795, 0.09015678548013795, 0.09015678548013795, 0.09015678548013795, 0.9546069773096783, 0.9546069773096783, 0.9546069773096783, 0.9546069773096783]\n",
      "RW_dot:-91.20033159717543\n",
      "=====================================================\n",
      "iteration:2\n",
      "btra_itr:16\n",
      "L:507.9530538901155\n",
      "dRdW:[20.70665410914996, 20.70665410914996, 20.70665410914996, 20.70665410914996, 0.8445197618770068, 0.8445197618770068, 0.8445197618770068, 0.8445197618770068]\n",
      "RW:[0.049391888113009624, 0.049391888113009624, 0.049391888113009624, 0.049391888113009624, 0.9529443831872306, 0.9529443831872306, 0.9529443831872306, 0.9529443831872306]\n",
      "RW_dot:-3.3820348926740462\n",
      "=====================================================\n",
      "iteration:3\n",
      "btra_itr:11\n",
      "L:3774.1337095688846\n",
      "dRdW:[-33.023026270909575, -33.023026270909575, -33.023026270909575, -33.023026270909575, -1.0591758532703845, -1.0591758532703845, -1.0591758532703845, -1.0591758532703845]\n",
      "RW:[0.04665606402598146, 0.04665606402598146, 0.04665606402598146, 0.04665606402598146, 0.9527565822190535, 0.9527565822190535, 0.9527565822190535, 0.9527565822190535]\n",
      "RW_dot:0.013237614166747595\n",
      "Adaptive_on\n",
      "=====================================================\n",
      "iteration:4\n",
      "btra_itr:0\n",
      "L:3774.1337095688846\n",
      "dRdW:[-6.099408764917143, -6.099408764917143, -6.099408764917143, -6.099408764917143, -0.27292414829262435, -0.27292414829262435, -0.27292414829262435, -0.27292414829262435]\n",
      "RW:[0.04827217231315019, 0.04827217231315019, 0.04827217231315019, 0.04827217231315019, 0.9528288966014509, 0.9528288966014509, 0.9528288966014509, 0.9528288966014509]\n",
      "RW_dot:-0.039508165572149236\n",
      "=====================================================\n",
      "iteration:5\n",
      "btra_itr:0\n",
      "L:3774.1337095688846\n",
      "dRdW:[-2.294120118747447, -2.294120118747447, -2.294120118747447, -2.294120118747447, -0.14578706607533554, -0.14578706607533554, -0.14578706607533554, -0.14578706607533554]\n",
      "RW:[0.04933536994954275, 0.04933536994954275, 0.04933536994954275, 0.04933536994954275, 0.9528878993883378, 0.9528878993883378, 0.9528878993883378, 0.9528878993883378]\n",
      "RW_dot:-0.013118061574667036\n",
      "=====================================================\n",
      "iteration:6\n",
      "btra_itr:0\n",
      "L:3774.1337095688846\n",
      "dRdW:[-0.5698357778513383, -0.5698357778513383, -0.5698357778513383, -0.5698357778513383, -0.0862147676083127, -0.0862147676083127, -0.0862147676083127, -0.0862147676083127]\n",
      "RW:[0.04994782773328108, 0.04994782773328108, 0.04994782773328108, 0.04994782773328108, 0.9529363527133535, 0.9529363527133535, 0.9529363527133535, 0.9529363527133535]\n",
      "RW_dot:-0.003195372149864491\n",
      "=====================================================\n",
      "iteration:7\n",
      "btra_itr:0\n",
      "L:3774.1337095688846\n",
      "dRdW:[0.15250734814295086, 0.15250734814295086, 0.15250734814295086, 0.15250734814295086, -0.060818188102274684, -0.060818188102274684, -0.060818188102274684, -0.060818188102274684]\n",
      "RW:[0.050232673324045955, 0.050232673324045955, 0.050232673324045955, 0.050232673324045955, 0.9529781989967908, 0.9529781989967908, 0.9529781989967908, 0.9529781989967908]\n",
      "RW_dot:-0.0003975384339483753\n",
      "=====================================================\n",
      "iteration:8\n",
      "btra_itr:0\n",
      "L:3774.1337095688846\n",
      "dRdW:[0.3466240697881595, 0.3466240697881595, 0.3466240697881595, 0.3466240697881595, -0.053888353071195993, -0.053888353071195993, -0.053888353071195993, -0.053888353071195993]\n",
      "RW:[0.05031139074477736, 0.05031139074477736, 0.05031139074477736, 0.05031139074477736, 0.9530175339925758, 0.9530175339925758, 0.9530175339925758, 0.9530175339925758]\n",
      "RW_dot:1.9498508503940112e-5\n",
      "Adaptive_on\n",
      "=====================================================\n",
      "iteration:9\n",
      "btra_itr:0\n",
      "L:3774.1337095688846\n",
      "dRdW:[0.21210810935086144, 0.21210810935086144, 0.21210810935086144, 0.21210810935086144, -0.05859430195904647, -0.05859430195904647, -0.05859430195904647, -0.05859430195904647]\n",
      "RW:[0.050255190269205156, 0.050255190269205156, 0.050255190269205156, 0.050255190269205156, 0.9530330592247134, 0.9530330592247134, 0.9530330592247134, 0.9530330592247134]\n",
      "RW_dot:-5.132106703236653e-5\n",
      "=====================================================\n",
      "iteration:10\n",
      "btra_itr:0\n",
      "L:3774.1337095688846\n",
      "dRdW:[0.10636919454554317, 0.10636919454554317, 0.10636919454554317, 0.10636919454554317, -0.06226741564432481, -0.06226741564432481, -0.06226741564432481, -0.06226741564432481]\n",
      "RW:[0.05021117184939093, 0.05021117184939093, 0.05021117184939093, 0.05021117184939093, 0.9530539319793203, 0.9530539319793203, 0.9530539319793203, 0.9530539319793203]\n",
      "RW_dot:-2.796172397561753e-5\n",
      "g:11\n",
      "  1.857438 seconds (2.67 M allocations: 179.759 MiB, 2.45% gc time, 78.24% compilation time)\n"
     ]
    }
   ],
   "source": [
    "@time R_hist, W_hist, g, obj_rel_list = short_solve(prm, algprm, RW_ini, m0, n0, err_short, short_itr);"
   ]
  },
  {
   "cell_type": "code",
   "execution_count": 9,
   "id": "c55d6269-96d6-47fc-84a6-a917b68a7dfa",
   "metadata": {},
   "outputs": [
    {
     "data": {
      "text/plain": [
       "4-element Vector{Float64}:\n",
       " 0.0491408106944193\n",
       " 0.0491408106944193\n",
       " 0.0491408106944193\n",
       " 0.0491408106944193"
      ]
     },
     "execution_count": 9,
     "metadata": {},
     "output_type": "execute_result"
    }
   ],
   "source": [
    "R_hist"
   ]
  },
  {
   "cell_type": "code",
   "execution_count": 10,
   "id": "5cb5bdc0-9ff5-4db4-9ce4-1e5538b3a851",
   "metadata": {},
   "outputs": [
    {
     "data": {
      "text/plain": [
       "4-element Vector{Float64}:\n",
       " 0.9830748447562767\n",
       " 0.9830748447562767\n",
       " 0.9830748447562767\n",
       " 0.9830748447562767"
      ]
     },
     "execution_count": 10,
     "metadata": {},
     "output_type": "execute_result"
    }
   ],
   "source": [
    "W_hist"
   ]
  },
  {
   "cell_type": "code",
   "execution_count": 15,
   "id": "c7572973-c946-486a-8fe0-768b59906cac",
   "metadata": {},
   "outputs": [
    {
     "name": "stdout",
     "output_type": "stream",
     "text": [
      "L_H_W:[0.06399999999999999, 0.06399999999999999, 0.06399999999999999, 0.06399999999999999]\n",
      "L_F:[0.010239999999999994, 0.010239999999999994, 0.010239999999999994, 0.010239999999999994]\n"
     ]
    },
    {
     "data": {
      "text/plain": [
       "27.474110393491852"
      ]
     },
     "execution_count": 15,
     "metadata": {},
     "output_type": "execute_result"
    }
   ],
   "source": [
    "dR = zeros(K)\n",
    "dW = zeros(K)\n",
    "\n",
    "L_bar = backtracking(prm, algprm, dR::Vector{Float64}, dW::Vector{Float64}, RW_ini_list::Vector{Float64}, L::Float64, m0::Vector{Float64}, n0::Matrix{Float64})\n",
    "\n",
    "L_bar"
   ]
  },
  {
   "cell_type": "code",
   "execution_count": 13,
   "id": "7ae0b0c1-4bb6-4973-9a10-feb393cdaae5",
   "metadata": {},
   "outputs": [
    {
     "data": {
      "text/plain": [
       "105.00573416702365"
      ]
     },
     "execution_count": 13,
     "metadata": {},
     "output_type": "execute_result"
    }
   ],
   "source": [
    "Z = Z_SD(prm, RW_ini_list::Vector{Float64}, m0::Vector{Float64}, n0::Matrix{Float64})\n",
    "\n",
    "Z"
   ]
  },
  {
   "cell_type": "code",
   "execution_count": 11,
   "id": "cb0c0575-fca3-4ccf-9a2e-5f6c6952fcaa",
   "metadata": {},
   "outputs": [
    {
     "name": "stdout",
     "output_type": "stream",
     "text": [
      "[0.005119999999999995, 0.005119999999999995, 0.005119999999999995, 0.005119999999999995]\n"
     ]
    }
   ],
   "source": [
    "pi_reuslt = pi_noex(prm, R_ini_list::Vector{Float64}, W_ini_list::Vector{Float64}, m0::Vector{Float64})\n",
    "\n",
    "println(pi_reuslt)"
   ]
  },
  {
   "cell_type": "code",
   "execution_count": 10,
   "id": "b2739eaa-a609-4dc4-9cdd-33995af12758",
   "metadata": {},
   "outputs": [
    {
     "name": "stdout",
     "output_type": "stream",
     "text": [
      "L_H_W:[0.06399999999999999, 0.06399999999999999, 0.06399999999999999, 0.06399999999999999]\n",
      "L_F:[0.010239999999999994, 0.010239999999999994, 0.010239999999999994, 0.010239999999999994]\n",
      "[24.99713291648818, 24.99713291648818, 24.99713291648818, 24.99713291648818, 1.2471329164881797, 1.2471329164881797, 1.2471329164881797, 1.2471329164881797]\n"
     ]
    }
   ],
   "source": [
    "dR = zeros(K)\n",
    "dW = zeros(K)\n",
    "\n",
    "dRdW = short_dual_df(prm, dR::Vector{Float64}, dW::Vector{Float64}, RW_ini_list::Vector{Float64}, m0::Vector{Float64}, n0::Matrix{Float64})\n",
    "\n",
    "println(dRdW)"
   ]
  },
  {
   "cell_type": "code",
   "execution_count": null,
   "id": "052c3791-5aa5-4434-848d-44951cd4cb67",
   "metadata": {},
   "outputs": [],
   "source": [
    "dR = zeros(K)\n",
    "dW = zeros(K)\n",
    "\n",
    "for i in 1:100\n",
    "    println(\"=======================================\")\n",
    "    println(\"Before allocation: \", Base.gc_bytes(), \" bytes\")\n",
    "    short_dual_df(prm, dR::Vector{Float64}, dW::Vector{Float64}, RW_ini_list::Vector{Float64}, m0::Vector{Float64}, n0::Matrix{Float64})\n",
    "    println(\"After allocation: \", Base.gc_bytes(), \" bytes\")\n",
    "\n",
    "    GC.gc()\n",
    "    println(\"After GC: \", Base.gc_bytes(), \" bytes\")\n",
    "end"
   ]
  },
  {
   "cell_type": "code",
   "execution_count": 11,
   "id": "20f65af9-1a77-4db0-8022-0480e28b1e3e",
   "metadata": {},
   "outputs": [
    {
     "data": {
      "text/plain": [
       "5"
      ]
     },
     "execution_count": 11,
     "metadata": {},
     "output_type": "execute_result"
    }
   ],
   "source": [
    "itr"
   ]
  },
  {
   "cell_type": "code",
   "execution_count": 38,
   "id": "f41b75b3-479a-4acb-a029-b0e85a01a51f",
   "metadata": {},
   "outputs": [
    {
     "data": {
      "text/plain": [
       "(1.4350006042101972e-5, -0.0012879240188393218)"
      ]
     },
     "execution_count": 38,
     "metadata": {},
     "output_type": "execute_result"
    }
   ],
   "source": [
    "dR = zeros(prm.K)\n",
    "dW = zeros(prm.K)\n",
    "equ_R, equ_W = equilibrium(prm, dR, dW, R_hist, W_hist, m0, n0)"
   ]
  },
  {
   "cell_type": "code",
   "execution_count": null,
   "id": "a1146b0f-be24-48e6-8ffa-8e2cd6b0d3a3",
   "metadata": {},
   "outputs": [],
   "source": [
    "par_long_solve(prm, algprm, m0, n0, RW_ini, err_short, err_long, obj_corr, long_itr);"
   ]
  },
  {
   "cell_type": "code",
   "execution_count": null,
   "id": "a3cab59b-a594-4647-84d1-c26b65caa9f5",
   "metadata": {},
   "outputs": [
    {
     "name": "stdout",
     "output_type": "stream",
     "text": [
      "Long_max_value:79Lyapunov:-3.0371067168744048e-5\n",
      "100168.706802 seconds (114.60 M allocations: 377.067 TiB, 16.51% gc time)\n"
     ]
    }
   ],
   "source": [
    "@time par_long_solve(prm, algprm, m0, n0, RW_ini, err_short, err_long, obj_corr, long_itr);"
   ]
  },
  {
   "cell_type": "code",
   "execution_count": 10,
   "id": "aba9b1b3-2026-4ea6-af2e-53343e211b33",
   "metadata": {},
   "outputs": [
    {
     "name": "stdout",
     "output_type": "stream",
     "text": [
      "Long_max_value:73Lyapunov:-3.581404741304084e-5\n"
     ]
    },
    {
     "name": "stderr",
     "output_type": "stream",
     "text": [
      "\u001b[36m\u001b[1m[ \u001b[22m\u001b[39m\u001b[36m\u001b[1mInfo: \u001b[22m\u001b[39mWrote profiling output to file://C:\\Users\\kimura\\qse_nume\\FISTA\\exp_jul\\statprof/index.html .\n"
     ]
    }
   ],
   "source": [
    "@profilehtml long_solve(prm, algprm, m0, n0, RW_ini, err_short, err_long, obj_corr, long_itr);\n",
    "# @profile long_solve(prm, algprm, m0, n0, RW_ini, err_short, err_long, obj_corr, long_itr);"
   ]
  },
  {
   "cell_type": "code",
   "execution_count": 7,
   "id": "6306e3ad-fdb7-4c73-85f6-c9735b5a4d80",
   "metadata": {},
   "outputs": [
    {
     "name": "stdout",
     "output_type": "stream",
     "text": [
      "Long_max_value:73Lyapunov:-3.581404741304084e-5\n"
     ]
    }
   ],
   "source": [
    "@profile begin\n",
    "    long_solve(prm, algprm, m0, n0, RW_ini, err_short, err_long, obj_corr, long_itr)\n",
    "end\n",
    "\n",
    "StatProfilerHTML.print()"
   ]
  },
  {
   "cell_type": "code",
   "execution_count": 8,
   "id": "7f33f034-f271-480f-a0f1-87c2684b6cae",
   "metadata": {},
   "outputs": [
    {
     "name": "stdout",
     "output_type": "stream",
     "text": [
      "Long_max_value:73Lyapunov:-3.581404741304084e-5\n",
      ".\\compiler\\abstractinterpretation.jl:2624, MethodInstance for Core.Compiler.abstract_eval_statement(::Core.Compiler.NativeInterpreter, ::Any, ::Vector{Core.Compiler.VarState}, ::Core.Compiler.InferenceState)\n",
      ".\\compiler\\abstractinterpretation.jl:2624, MethodInstance for Core.Compiler.abstract_eval_statement(::Core.Compiler.NativeInterpreter, ::Any, ::Vector{Core.Compiler.VarState}, ::Core.Compiler.InferenceState)\n"
     ]
    }
   ],
   "source": [
    "@profile long_solve(prm, algprm, m0, n0, RW_ini, err_short, err_long, obj_corr, long_itr)\n",
    "ProfileView.view();"
   ]
  },
  {
   "cell_type": "code",
   "execution_count": 10,
   "id": "9c1103bd-8bb3-48a5-8c35-ffffd828d86b",
   "metadata": {},
   "outputs": [
    {
     "name": "stdout",
     "output_type": "stream",
     "text": [
      "Long_max_value:73Lyapunov:-3.581404741304084e-5\n",
      "  9.569168 seconds (4.70 M allocations: 41.532 GiB, 10.01% gc time)\n"
     ]
    }
   ],
   "source": [
    "@time long_solve(prm, algprm, m0, n0, RW_ini, err_short, err_long, obj_corr, long_itr);"
   ]
  },
  {
   "cell_type": "code",
   "execution_count": 4,
   "id": "1ac8bccc-ff73-4aab-aebe-882b61c97af0",
   "metadata": {},
   "outputs": [
    {
     "data": {
      "text/plain": [
       "0.06456578673026336"
      ]
     },
     "execution_count": 4,
     "metadata": {},
     "output_type": "execute_result"
    }
   ],
   "source": [
    "mn0 = bond(prm, m0, n0)\n",
    "Z_LP(prm, mn0, RW_ini_list)"
   ]
  },
  {
   "cell_type": "code",
   "execution_count": 5,
   "id": "8369e59c-d222-41e0-93c1-f187eccaece7",
   "metadata": {},
   "outputs": [
    {
     "data": {
      "text/plain": [
       "10100-element Vector{Float64}:\n",
       " 0.0863572793382453\n",
       " 0.09017922077410445\n",
       " 0.09327306725725167\n",
       " 0.09544328950209136\n",
       " 0.0965607877591745\n",
       " 0.0965607877591745\n",
       " 0.09544328950209137\n",
       " 0.09327306725725167\n",
       " 0.0901792207741045\n",
       " 0.0863572793382453\n",
       " 0.0901792207741045\n",
       " 0.09465113039366298\n",
       " 0.09827400744428184\n",
       " ⋮\n",
       " 0.0009998528966590169\n",
       " 0.0010004852390266576\n",
       " 0.000999717174345137\n",
       " 0.0009997171847735394\n",
       " 0.000999717207024991\n",
       " 0.0009997172600801705\n",
       " 0.000999717407033188\n",
       " 0.0009997179111308205\n",
       " 0.0009997203209475786\n",
       " 0.0009997411548424613\n",
       " 0.0010004852390266576\n",
       " 0.0010245906032452037"
      ]
     },
     "execution_count": 5,
     "metadata": {},
     "output_type": "execute_result"
    }
   ],
   "source": [
    "mn0 = bond(prm, m0, n0)\n",
    "logit(prm, R_ini_list, W_ini_list, m0)"
   ]
  },
  {
   "cell_type": "code",
   "execution_count": 5,
   "id": "0a998867-a69d-45a5-9dcd-df732b00edc9",
   "metadata": {},
   "outputs": [
    {
     "data": {
      "text/plain": [
       "(Any[0.05428658206079239, 0.054383244584201205, 0.054387803327958124, 0.05438861068257685, 0.054388812984597946, 0.054388812984598155, 0.05438861068257678, 0.054387803327958124, 0.0543832445842015, 0.05428658206079236  …  0.05428658206079239, 0.0543832445842012, 0.054387803327958, 0.05438861068257674, 0.05438881298459795, 0.054388812984598155, 0.054388610682576784, 0.054387803327957916, 0.05438324458420116, 0.05428658206079238], Any[0.9772988630006281, 0.9790629119524241, 0.9791314639813392, 0.9791444767542825, 0.9791478603783514, 0.9791478603783456, 0.9791444767542825, 0.9791314639813392, 0.9790629119524148, 0.9772988630006281  …  0.9772988630006281, 0.9790629119524241, 0.9791314639813434, 0.9791444767542825, 0.9791478603783514, 0.9791478603783456, 0.9791444767542825, 0.9791314639813434, 0.9790629119524241, 0.9772988630006281], 494, Any[])"
      ]
     },
     "execution_count": 5,
     "metadata": {},
     "output_type": "execute_result"
    }
   ],
   "source": [
    "short_solve(prm, algprm, RW_ini, m0, n0, err_short, short_itr)"
   ]
  },
  {
   "cell_type": "code",
   "execution_count": 16,
   "id": "a6a6a119-0dbc-4dbc-92ef-76892f81f6fd",
   "metadata": {},
   "outputs": [
    {
     "name": "stdout",
     "output_type": "stream",
     "text": [
      "  0.585736 seconds (12.13 k allocations: 1.852 GiB, 43.64% gc time)\n"
     ]
    },
    {
     "data": {
      "text/plain": [
       "(Any[0.15307886857387734, 0.1538724237301507, 0.1539013263555799, 0.15390728856488983, 0.15390914476850265, 0.15390988710261921, 0.15391023285593397, 0.15391040805445516, 0.15391049742057994, 0.1539105356336611  …  0.15391053563366108, 0.15391049742057997, 0.15391040805445524, 0.15391023285593397, 0.1539098871026191, 0.15390914476850256, 0.15390728856488983, 0.15390132635557988, 0.15387242373015061, 0.15307886857387734], Any[0.6890856436736664, 0.6926250752599873, 0.6927600248908615, 0.6927872056742209, 0.6927955519254143, 0.6927988847862605, 0.6928004376441361, 0.6928012246115425, 0.6928016260209724, 0.6928017976545034  …  0.6928017976545034, 0.6928016260209723, 0.692801224611542, 0.6928004376441362, 0.6927988847862614, 0.692795551925415, 0.6927872056742207, 0.6927600248908616, 0.6926250752599877, 0.6890856436736664], 60, Any[])"
      ]
     },
     "execution_count": 16,
     "metadata": {},
     "output_type": "execute_result"
    }
   ],
   "source": [
    "@time short_solve(prm, algprm, RW_ini, m0, n0, err_short, short_itr)"
   ]
  },
  {
   "cell_type": "code",
   "execution_count": 4,
   "id": "93df2250-5078-4653-90f9-a646123fa6fc",
   "metadata": {},
   "outputs": [
    {
     "data": {
      "text/plain": [
       "25-element Vector{Float64}:\n",
       " 1.3841881620188725\n",
       " 1.5036302763215232\n",
       " 1.5446821382634097\n",
       " 1.5036302763215237\n",
       " 1.3841881620188727\n",
       " 1.5036302763215235\n",
       " 1.6430150832087074\n",
       " 1.6907828882908504\n",
       " 1.6430150832087074\n",
       " 1.5036302763215232\n",
       " 1.5446821382634093\n",
       " 1.6907828882908502\n",
       " 1.740909786357349\n",
       " 1.6907828882908507\n",
       " 1.5446821382634095\n",
       " 1.5036302763215235\n",
       " 1.6430150832087076\n",
       " 1.6907828882908504\n",
       " 1.6430150832087076\n",
       " 1.5036302763215235\n",
       " 1.3841881620188727\n",
       " 1.5036302763215232\n",
       " 1.5446821382634097\n",
       " 1.5036302763215235\n",
       " 1.3841881620188727"
      ]
     },
     "execution_count": 4,
     "metadata": {},
     "output_type": "execute_result"
    }
   ],
   "source": [
    "cal_pi(prm, R_ini_list, W_ini_list, m0)"
   ]
  },
  {
   "cell_type": "code",
   "execution_count": 6,
   "id": "063d2dd8-bc25-4bad-86b6-e6ac9a35ae86",
   "metadata": {},
   "outputs": [
    {
     "data": {
      "text/plain": [
       "25-element Vector{Float64}:\n",
       " 0.005119999999999995\n",
       " 0.005119999999999995\n",
       " 0.005119999999999995\n",
       " 0.005119999999999995\n",
       " 0.005119999999999995\n",
       " 0.005119999999999995\n",
       " 0.005119999999999995\n",
       " 0.005119999999999995\n",
       " 0.005119999999999995\n",
       " 0.005119999999999995\n",
       " 0.005119999999999995\n",
       " 0.005119999999999995\n",
       " 0.005119999999999995\n",
       " 0.005119999999999995\n",
       " 0.005119999999999995\n",
       " 0.005119999999999995\n",
       " 0.005119999999999995\n",
       " 0.005119999999999995\n",
       " 0.005119999999999995\n",
       " 0.005119999999999995\n",
       " 0.005119999999999995\n",
       " 0.005119999999999995\n",
       " 0.005119999999999995\n",
       " 0.005119999999999995\n",
       " 0.005119999999999995"
      ]
     },
     "execution_count": 6,
     "metadata": {},
     "output_type": "execute_result"
    }
   ],
   "source": [
    "pi_noex(prm, R_ini_list, W_ini_list, m0)"
   ]
  },
  {
   "cell_type": "code",
   "execution_count": null,
   "id": "0637c182-110b-4583-857b-e514e340b42f",
   "metadata": {},
   "outputs": [],
   "source": [
    "v(prm, R_ini_list, W_ini_list)"
   ]
  },
  {
   "cell_type": "code",
   "execution_count": 8,
   "id": "b51f4da4-0f9a-4a33-8ad8-1694b5a10561",
   "metadata": {},
   "outputs": [
    {
     "data": {
      "text/plain": [
       "912.5133732018587"
      ]
     },
     "execution_count": 8,
     "metadata": {},
     "output_type": "execute_result"
    }
   ],
   "source": [
    "Z_SD(prm, RW_ini_list, m0, n0)"
   ]
  },
  {
   "cell_type": "code",
   "execution_count": 10,
   "id": "a1e59855-72c6-4b45-be36-fa98a11a9e69",
   "metadata": {},
   "outputs": [
    {
     "data": {
      "text/plain": [
       "50-element Vector{Float64}:\n",
       " 35.998932089977565\n",
       " 35.998930559354456\n",
       " 35.998930499326484\n",
       " 35.998930559354456\n",
       " 35.998932089977565\n",
       " 35.998930559354456\n",
       " 35.99892880438462\n",
       " 35.998928725812966\n",
       " 35.99892880438462\n",
       " 35.998930559354456\n",
       " 35.998930499326484\n",
       " 35.998928725812966\n",
       " 35.99892864344036\n",
       "  ⋮\n",
       "  0.4989287258129678\n",
       "  0.4989304993264839\n",
       "  0.49893055935445507\n",
       "  0.4989288043846178\n",
       "  0.49892872581296777\n",
       "  0.4989288043846178\n",
       "  0.49893055935445507\n",
       "  0.4989320899775639\n",
       "  0.49893055935445507\n",
       "  0.49893049932648387\n",
       "  0.49893055935445496\n",
       "  0.49893208997756394"
      ]
     },
     "execution_count": 10,
     "metadata": {},
     "output_type": "execute_result"
    }
   ],
   "source": [
    "short_dual_df(prm, RW_ini_list, m0, n0)"
   ]
  },
  {
   "cell_type": "code",
   "execution_count": 4,
   "id": "3890fc52-00b9-441d-9186-353a9f66a6ae",
   "metadata": {},
   "outputs": [
    {
     "data": {
      "text/plain": [
       "short_solve (generic function with 1 method)"
      ]
     },
     "execution_count": 4,
     "metadata": {},
     "output_type": "execute_result"
    }
   ],
   "source": [
    "short_solve"
   ]
  },
  {
   "cell_type": "code",
   "execution_count": null,
   "id": "865755ab-5cd0-419b-b9db-f4a7b7722630",
   "metadata": {},
   "outputs": [],
   "source": []
  },
  {
   "cell_type": "code",
   "execution_count": null,
   "id": "cb7e4f48-d3c0-43f6-959c-de92af06a734",
   "metadata": {},
   "outputs": [],
   "source": []
  }
 ],
 "metadata": {
  "kernelspec": {
   "display_name": "Julia 1.10.4",
   "language": "julia",
   "name": "julia-1.10"
  },
  "language_info": {
   "file_extension": ".jl",
   "mimetype": "application/julia",
   "name": "julia",
   "version": "1.10.4"
  }
 },
 "nbformat": 4,
 "nbformat_minor": 5
}
