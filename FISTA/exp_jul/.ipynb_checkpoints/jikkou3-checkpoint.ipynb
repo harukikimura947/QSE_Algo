{
 "cells": [
  {
   "cell_type": "code",
   "execution_count": null,
   "id": "ade0d07e-dc5c-478f-9ec7-5d7e10bee5b0",
   "metadata": {},
   "outputs": [],
   "source": []
  }
 ],
 "metadata": {
  "kernelspec": {
   "display_name": "Julia 1.10.4",
   "language": "julia",
   "name": "julia-1.10"
  },
  "language_info": {
   "file_extension": ".jl",
   "mimetype": "application/julia",
   "name": "julia",
   "version": "1.10.4"
  }
 },
 "nbformat": 4,
 "nbformat_minor": 5
}
