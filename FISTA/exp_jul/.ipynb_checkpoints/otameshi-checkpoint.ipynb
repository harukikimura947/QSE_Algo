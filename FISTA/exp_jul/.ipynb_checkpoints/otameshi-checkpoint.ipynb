{
 "cells": [
  {
   "cell_type": "code",
   "execution_count": 1,
   "id": "d156f5c9-f2c9-40b7-bfc8-adbe3edc464d",
   "metadata": {},
   "outputs": [
    {
     "name": "stdout",
     "output_type": "stream",
     "text": [
      "32\n"
     ]
    }
   ],
   "source": [
    "println(Threads.nthreads())"
   ]
  },
  {
   "cell_type": "code",
   "execution_count": 6,
   "id": "10221797-6fc1-4492-a68a-89c72a91cf5d",
   "metadata": {},
   "outputs": [],
   "source": [
    "using BenchmarkTools\n",
    "n = 10000\n",
    "\n",
    "# A = rand(Float32, n, n) #T\n",
    "# A_T = rand(Float32, n, n)' #T'\n",
    "# B = rand(Float32, n, n) #n\n",
    "# B_T = rand(Float32, n, n)'\n",
    "# a = rand(Float32, n) #R\n",
    "# b = rand(Float32, n) #W;\n",
    "# c = rand(Float32, n) #S_F, L_F\n",
    "# d = rand(Float32, n) #m\n",
    "# dR_1 = zeros(Float32, n)\n",
    "# dR_2 = zeros(Float32, n)\n",
    "# dW = zeros(Float32, n)\n",
    "# S_bar = 1.0;\n",
    "\n",
    "A = rand(Float64, n, n) #T\n",
    "A_T = rand(Float64, n, n)' #T'\n",
    "B = rand(Float64, n, n) #n\n",
    "B_T = rand(Float64, n, n)'\n",
    "a = rand(Float64, n) #R\n",
    "b = rand(Float64, n) #W;\n",
    "c = rand(Float64, n) #S_F, L_F\n",
    "d = rand(Float64, n) #m\n",
    "dR_1 = zeros(Float64, n)\n",
    "dR_2 = zeros(Float64, n)\n",
    "dW = zeros(Float64, n)\n",
    "S_bar = 1.0;"
   ]
  },
  {
   "cell_type": "code",
   "execution_count": 13,
   "id": "0d512391-66ef-472a-ba22-280e5b6cfc19",
   "metadata": {},
   "outputs": [
    {
     "name": "stdout",
     "output_type": "stream",
     "text": [
      "  0.217787 seconds (15 allocations: 763.016 MiB, 16.10% gc time)\n"
     ]
    }
   ],
   "source": [
    "@time dR_1 .= S_bar .- b .* sum(A .* (a' .* B), dims=2) .- c .* d;"
   ]
  },
  {
   "cell_type": "code",
   "execution_count": 8,
   "id": "19c8327e-dffc-4487-8904-828785e4aec6",
   "metadata": {},
   "outputs": [
    {
     "name": "stdout",
     "output_type": "stream",
     "text": [
      " 17.192987 seconds (789.89 M allocations: 13.261 GiB, 1.84% gc time)\n"
     ]
    }
   ],
   "source": [
    "#列を参照\n",
    "@time begin\n",
    "for i in 1:n\n",
    "    Ln = 0\n",
    "    for j in 1:n\n",
    "        Ln += A_T[i, j] * a[j] * B_T[i, j]\n",
    "    end\n",
    "    dW[i] = S_bar - b[i] * Ln - c[i] * d[i]\n",
    "end\n",
    "end"
   ]
  },
  {
   "cell_type": "code",
   "execution_count": 15,
   "id": "d7a22b5f-596f-41d2-8414-d54958cd01c8",
   "metadata": {},
   "outputs": [
    {
     "name": "stdout",
     "output_type": "stream",
     "text": [
      "  0.333425 seconds (226.94 k allocations: 768.538 MiB, 17.17% gc time)\n"
     ]
    }
   ],
   "source": [
    "#列を参照\n",
    "@time begin\n",
    "for i in 1:n\n",
    "    Ln = sum(@views A_T[i, :] .* a .* B_T[i, :])\n",
    "    dW[i] = S_bar - b[i] * Ln - c[i] * d[i]\n",
    "end\n",
    "end"
   ]
  },
  {
   "cell_type": "code",
   "execution_count": 4,
   "id": "0d8edbe4-d47b-4653-9199-4128f0c2078f",
   "metadata": {},
   "outputs": [
    {
     "name": "stdout",
     "output_type": "stream",
     "text": [
      " 17.193576 seconds (789.89 M allocations: 13.261 GiB, 1.56% gc time, 0.02% compilation time)\n"
     ]
    }
   ],
   "source": [
    "#行を参照\n",
    "@time begin\n",
    "for j in 1:n\n",
    "    Ln = 0\n",
    "    for i in 1:n\n",
    "        Ln += A[i, j] * a[i] * B[i, j]\n",
    "    end\n",
    "    dW[j] = S_bar - b[j] * Ln - c[j] * d[j]\n",
    "end\n",
    "end"
   ]
  },
  {
   "cell_type": "code",
   "execution_count": 5,
   "id": "5ed70b22-1979-4dfd-b624-08374b77e5dc",
   "metadata": {},
   "outputs": [
    {
     "name": "stdout",
     "output_type": "stream",
     "text": [
      "  0.463563 seconds (457.35 k allocations: 784.252 MiB, 12.59% gc time, 27.49% compilation time)\n"
     ]
    }
   ],
   "source": [
    "#行を参照\n",
    "@time begin\n",
    "for j in 1:n\n",
    "    Ln = sum(@views A[:, j] .* a .* B[:, j])\n",
    "    dW[j] = S_bar - b[j] * Ln - c[j] * d[j]\n",
    "end\n",
    "end"
   ]
  },
  {
   "cell_type": "code",
   "execution_count": 146,
   "id": "be340913-f529-4481-bc9c-edd5df701ce2",
   "metadata": {},
   "outputs": [],
   "source": [
    "for i in 1:n\n",
    "    Sn = sum(A[i, :] .* b .* B[i, :])  # ベクトル演算\n",
    "    dR_2[i] = S_bar - a[i] * Sn - c[i] * d[i]\n",
    "end"
   ]
  },
  {
   "cell_type": "code",
   "execution_count": 147,
   "id": "885ac656-e064-4aa5-a3f7-24c6979bdb94",
   "metadata": {},
   "outputs": [
    {
     "data": {
      "text/plain": [
       "2.4158453015843406e-13"
      ]
     },
     "execution_count": 147,
     "metadata": {},
     "output_type": "execute_result"
    }
   ],
   "source": [
    "maximum(dR_1 - dR_2)"
   ]
  },
  {
   "cell_type": "code",
   "execution_count": 148,
   "id": "2854b727-faab-49c5-bb8b-bd48c0147542",
   "metadata": {},
   "outputs": [
    {
     "data": {
      "text/plain": [
       "-1.8474111129762605e-13"
      ]
     },
     "execution_count": 148,
     "metadata": {},
     "output_type": "execute_result"
    }
   ],
   "source": [
    "minimum(dR_1 - dR_2)"
   ]
  },
  {
   "cell_type": "code",
   "execution_count": 5,
   "id": "95546bf7-6364-443a-9677-dd8ccfacfb37",
   "metadata": {},
   "outputs": [
    {
     "ename": "LoadError",
     "evalue": "DimensionMismatch: array could not be broadcast to match destination",
     "output_type": "error",
     "traceback": [
      "DimensionMismatch: array could not be broadcast to match destination",
      "",
      "Stacktrace:",
      " [1] check_broadcast_shape",
      "   @ .\\broadcast.jl:579 [inlined]",
      " [2] check_broadcast_axes",
      "   @ .\\broadcast.jl:582 [inlined]",
      " [3] instantiate",
      "   @ .\\broadcast.jl:309 [inlined]",
      " [4] materialize!",
      "   @ .\\broadcast.jl:914 [inlined]",
      " [5] materialize!(dest::Matrix{Float64}, bc::Base.Broadcast.Broadcasted{Base.Broadcast.DefaultArrayStyle{1}, Nothing, typeof(identity), Tuple{Vector{Int64}}})",
      "   @ Base.Broadcast .\\broadcast.jl:911",
      " [6] top-level scope",
      "   @ In[5]:1"
     ]
    }
   ],
   "source": [
    "A .= [1, 2, 3]"
   ]
  },
  {
   "cell_type": "code",
   "execution_count": 2,
   "id": "c7e375e4-df10-4f3b-ae77-110ef7e5c854",
   "metadata": {},
   "outputs": [],
   "source": [
    "n = 10000\n",
    "\n",
    "A = collect(1:n)\n",
    "B = collect(1:n)\n",
    "\n",
    "C = zeros(n, n);"
   ]
  },
  {
   "cell_type": "code",
   "execution_count": 3,
   "id": "68c836c8-d10a-4828-9140-890fea69cbc3",
   "metadata": {},
   "outputs": [
    {
     "name": "stdout",
     "output_type": "stream",
     "text": [
      "  4.577352 seconds (769.38 M allocations: 12.957 GiB, 9.33% gc time, 19.71% compilation time)\n"
     ]
    }
   ],
   "source": [
    "using Base.Threads\n",
    "\n",
    "@time Threads.@threads for i in 1:n\n",
    "    for j in 1:n\n",
    "        C[i, j] = A[i] * B[j]\n",
    "    end\n",
    "end"
   ]
  },
  {
   "cell_type": "code",
   "execution_count": 4,
   "id": "feb8ada1-4bbc-45a3-8689-92313c0c109f",
   "metadata": {},
   "outputs": [
    {
     "name": "stdout",
     "output_type": "stream",
     "text": [
      " 27.639449 seconds (579.60 M allocations: 10.127 GiB, 8.59% gc time)\n"
     ]
    }
   ],
   "source": [
    "@time for i in 1:n\n",
    "    for j in 1:n\n",
    "        C[i, j] = A[i] * B[j]\n",
    "    end\n",
    "end"
   ]
  },
  {
   "cell_type": "code",
   "execution_count": 5,
   "id": "05468310-3db1-4a0b-aa3b-2fa4fbbeb29f",
   "metadata": {},
   "outputs": [
    {
     "name": "stdout",
     "output_type": "stream",
     "text": [
      "  0.419369 seconds (406.52 k allocations: 790.436 MiB, 9.05% gc time, 42.73% compilation time)\n"
     ]
    }
   ],
   "source": [
    "# 外積を用いた行列計算\n",
    "@time C .= A * B';"
   ]
  },
  {
   "cell_type": "code",
   "execution_count": 119,
   "id": "73082778-f069-481e-bbef-f972a292c793",
   "metadata": {},
   "outputs": [],
   "source": [
    "using Tullio\n",
    "using ThreadsX\n",
    "using LoopVectorization\n",
    "using Base.Threads\n",
    "using BenchmarkTools\n",
    "using CUDA\n",
    "\n",
    "function matri(A, B)\n",
    "    \n",
    "# A = cu(A)\n",
    "# B = cu(B)\n",
    "\n",
    "C = A .* B\n",
    "\n",
    "return C\n",
    "\n",
    "end;"
   ]
  },
  {
   "cell_type": "code",
   "execution_count": 120,
   "id": "188b0ebc-4142-4c7d-b531-b794892b904f",
   "metadata": {},
   "outputs": [],
   "source": [
    "n = 10000\n",
    "\n",
    "A = rand(n, n)\n",
    "B = rand(n, n);"
   ]
  },
  {
   "cell_type": "code",
   "execution_count": 124,
   "id": "3836b548-4d74-401d-a27b-b98141beb58d",
   "metadata": {},
   "outputs": [
    {
     "name": "stdout",
     "output_type": "stream",
     "text": [
      "  0.172829 seconds (2 allocations: 762.939 MiB, 0.51% gc time)\n"
     ]
    }
   ],
   "source": [
    "@time matri(A, B);"
   ]
  },
  {
   "cell_type": "code",
   "execution_count": 122,
   "id": "b1b3d33d-899a-45ce-b190-2a8f36c6b922",
   "metadata": {},
   "outputs": [
    {
     "name": "stdout",
     "output_type": "stream",
     "text": [
      "  140.111 ms (2 allocations: 762.94 MiB)\n"
     ]
    }
   ],
   "source": [
    "@btime matri(A, B);"
   ]
  },
  {
   "cell_type": "code",
   "execution_count": 107,
   "id": "cce3d5c4-fc59-4a17-ae64-efc19903a287",
   "metadata": {},
   "outputs": [],
   "source": [
    "function kernel_cal_matri(C, A, B)\n",
    "    \n",
    "    row = threadIdx().x + (blockIdx().x - 1) * blockDim().x\n",
    "    col = threadIdx().y + (blockIdx().y - 1) * blockDim().y\n",
    "    \n",
    "    # 行列サイズを取得\n",
    "    n_rows, n_cols = size(C)\n",
    "\n",
    "    # 有効な範囲内かチェック\n",
    "    if row <= n_rows && col <= n_cols\n",
    "        C[row, col] = A[row, col] * B[row, col]\n",
    "    end\n",
    "    \n",
    "    return nothing\n",
    "    \n",
    "end\n",
    "\n",
    "function cal_matri(A, B)\n",
    "    \n",
    "    n_rows, n_cols = size(A)\n",
    "    \n",
    "    # 非同期でデータを転送\n",
    "    A_cu_task = @async cu(A)\n",
    "    B_cu_task = @async cu(B)\n",
    "\n",
    "    # # 非同期転送の完了を待ってデータを取得\n",
    "    # A_cu = fetch(A_cu_task)\n",
    "    # B_cu = fetch(B_cu_task)\n",
    "    \n",
    "    # A_cu = cu(Float32.(A))\n",
    "    # B_cu = cu(Float32.(B))\n",
    "    \n",
    "    #非同期で計算を実行\n",
    "    C = CUDA.zeros(Float32, n_rows, n_cols)\n",
    "    \n",
    "    threads = (4, 4)  # 1ブロック内のスレッド数 (16×16=256スレッド)\n",
    "    blocks = (\n",
    "        ceil(Int, n_rows / threads[1]), \n",
    "        ceil(Int, n_cols / threads[2])\n",
    "    )\n",
    "    \n",
    "    @cuda threads=threads blocks=blocks kernel_cal_matri(C, fetch(A_cu), fetch(B_cu))\n",
    "    \n",
    "    #計算完了を待つ\n",
    "    CUDA.synchronize()\n",
    "    \n",
    "    return Array(C)\n",
    "end;"
   ]
  },
  {
   "cell_type": "code",
   "execution_count": 109,
   "id": "0eee997a-8941-4783-b488-4e6e1364f517",
   "metadata": {},
   "outputs": [
    {
     "name": "stdout",
     "output_type": "stream",
     "text": [
      "  0.784098 seconds (94 allocations: 1.118 GiB, 16.87% gc time)\n"
     ]
    }
   ],
   "source": [
    "@time cal_matri(A, B);"
   ]
  },
  {
   "cell_type": "code",
   "execution_count": 40,
   "id": "f8e3febb-94e6-4b09-82bd-29a5f3791b30",
   "metadata": {},
   "outputs": [
    {
     "name": "stdout",
     "output_type": "stream",
     "text": [
      "  0.367781 seconds (115 allocations: 762.942 MiB, 9.06% gc time)\n"
     ]
    }
   ],
   "source": [
    "@time begin\n",
    "A_cu = cu(A)\n",
    "B_cu = cu(B);\n",
    "C = A_cu .* B_cu;\n",
    "end;"
   ]
  },
  {
   "cell_type": "code",
   "execution_count": 43,
   "id": "33f7a6b3-47b8-42be-951f-29bb97d2bf1e",
   "metadata": {},
   "outputs": [
    {
     "name": "stdout",
     "output_type": "stream",
     "text": [
      "  0.147221 seconds (3 allocations: 762.940 MiB)\n"
     ]
    }
   ],
   "source": [
    "@time C = A .* B;"
   ]
  },
  {
   "cell_type": "code",
   "execution_count": 44,
   "id": "471309f8-6370-4697-8c4b-3b02a4e55950",
   "metadata": {},
   "outputs": [
    {
     "name": "stdout",
     "output_type": "stream",
     "text": [
      "  3.214435 seconds (4.47 M allocations: 1.490 GiB, 2.87% gc time, 94.33% compilation time)\n"
     ]
    }
   ],
   "source": [
    "@time C = @tullio C[i, j] := A[i, j] * B[i, j];"
   ]
  },
  {
   "cell_type": "code",
   "execution_count": null,
   "id": "6b5d40e8-0bfb-4f94-ab86-cd1896a0190b",
   "metadata": {},
   "outputs": [],
   "source": [
    "function elementwise_mult_lv(A::Matrix{Float64}, B::Matrix{Float64})\n",
    "    C = similar(A)  # 結果を格納する配列を確保\n",
    "    @tturbo for i in 1:size(A, 1), j in 1:size(A, 2)\n",
    "        C[i, j] = A[i, j] * B[i, j]\n",
    "    end\n",
    "    return C\n",
    "end;"
   ]
  },
  {
   "cell_type": "code",
   "execution_count": 55,
   "id": "7e0061e2-0fc5-4d39-a2d2-ce9b2f04fb86",
   "metadata": {},
   "outputs": [
    {
     "name": "stdout",
     "output_type": "stream",
     "text": [
      "  0.194790 seconds (2 allocations: 762.939 MiB, 29.15% gc time)\n"
     ]
    }
   ],
   "source": [
    "@time C = elementwise_mult_lv(A, B);"
   ]
  },
  {
   "cell_type": "code",
   "execution_count": 26,
   "id": "f3176f29-0fef-4bd9-bc97-e5e43f151809",
   "metadata": {},
   "outputs": [
    {
     "name": "stdout",
     "output_type": "stream",
     "text": [
      "  4.931461 seconds (769.37 M allocations: 12.956 GiB, 36.76% gc time, 18.57% compilation time)\n"
     ]
    }
   ],
   "source": [
    "@time Threads.@threads for i in 1:n\n",
    "        for j in 1:n\n",
    "            C = A[i, j] * B[i, j]\n",
    "        end\n",
    "    end"
   ]
  },
  {
   "cell_type": "code",
   "execution_count": 47,
   "id": "43a443cc-4891-4a75-ac86-b061d4f20b84",
   "metadata": {},
   "outputs": [],
   "source": [
    "using CUDA\n",
    "\n",
    "function kernel_demand_sparse(S_H, L_H, S_F, L_F, R, W, prm)\n",
    "    \n",
    "    i = threadIdx().x + (blockIdx().x - 1) * blockDim().x\n",
    "    if i <= length(R)\n",
    "        R_S_H = prm.alpha_S_R[i] * R[i] ^ -prm.power_S_H_R\n",
    "        W_S_H = prm.alpha_S_W[i] * W[i] ^ -prm.power_S_H_W\n",
    "        S_H[i, j] = prm.T_power * R_S_H * W_S_H\n",
    "\n",
    "        R_L_H = prm.alpha_L_R[i] * R[i] ^ -prm.power_L_H_R\n",
    "        W_L_H = prm.alpha_L_W[i] * W[i] ^ -prm.power_L_H_W\n",
    "        L_H[i] = prm.T_power * R_L_H * W_L_H\n",
    "\n",
    "        S_F[i] = prm.beta_S_R * R[i] ^ -prm.power_S_F_R * prm.beta_S_W * W[i] ^ -prm.power_S_F_W\n",
    "        L_F[i] = prm.beta_L_R * R[i] ^ -prm.power_L_F_R * prm.beta_L_W * W[i] ^ -prm.power_L_F_W\n",
    "    end\n",
    "end\n",
    "\n",
    "function demand_sparse(prm, R, W)\n",
    "    n = length(R)\n",
    "\n",
    "    # 非同期でデータをGPUに転送\n",
    "    R_cu = @async cu(R)\n",
    "    W_cu = @async cu(W)\n",
    "    prm_cu = @async cu(prm)\n",
    "\n",
    "    # 非同期タスクを待たずに計算準備\n",
    "    wait(R_cu)\n",
    "    wait(W_cu)\n",
    "    wait(prm_cu)\n",
    "\n",
    "    # 非同期で計算を実行\n",
    "    S_H, L_H, S_F, L_F = CUDA.zeros(Float32, n), CUDA.zeros(Float32, n), CUDA.zeros(Float32, n), CUDA.zeros(Float32, n)\n",
    "    @cuda threads=256 blocks=ceil(Int, n / 256) kernel_demand_sparse(S_H, L_H, S_F, L_F, fetch(R_cu), fetch(W_cu), fetch(prm_cu))\n",
    "\n",
    "    # 計算完了を待つ\n",
    "    CUDA.synchronize()\n",
    "\n",
    "    return S_H, L_H, S_F, L_F\n",
    "end;"
   ]
  },
  {
   "cell_type": "code",
   "execution_count": 19,
   "id": "386cbf92-3536-4230-80ac-248d7c071c6d",
   "metadata": {},
   "outputs": [
    {
     "name": "stdout",
     "output_type": "stream",
     "text": [
      "[4, 8, 6]\n"
     ]
    }
   ],
   "source": [
    "a = [1, 8, 3]\n",
    "b = [4, 5, 6]\n",
    "a .= max.(a, b)\n",
    "\n",
    "println(a)"
   ]
  },
  {
   "cell_type": "code",
   "execution_count": 45,
   "id": "af416131-f6c0-41da-b918-017fb625134a",
   "metadata": {},
   "outputs": [
    {
     "name": "stdout",
     "output_type": "stream",
     "text": [
      "A:[1.0, 1.0, 1.0]\n",
      "B:[0.0, 0.0, 0.0]\n",
      "A_{k}:[1.0, 1.0, 1.0]\n",
      "B_{k}:[1.0, 1.0, 1.0]\n",
      "A_{k}:[2.0, 2.0, 2.0]\n",
      "B_{k}:[2.0, 2.0, 2.0]\n",
      "A_{k}:[3.0, 3.0, 3.0]\n",
      "B_{k}:[3.0, 3.0, 3.0]\n"
     ]
    }
   ],
   "source": [
    "A = ones(3) #RW_before\n",
    "B = zeros(3) #RW\n",
    "\n",
    "println(\"A:\", A)\n",
    "println(\"B:\", B)\n",
    "\n",
    "for k in 1:3\n",
    "    B .= B .+ 1\n",
    "    \n",
    "    A .= B\n",
    "    \n",
    "    println(\"A_{k}:\", A)\n",
    "    println(\"B_{k}:\", B)\n",
    "    \n",
    "end"
   ]
  },
  {
   "cell_type": "code",
   "execution_count": 41,
   "id": "4625aacd-f815-4fe8-8a40-44d5cf276570",
   "metadata": {},
   "outputs": [
    {
     "data": {
      "text/plain": [
       "3-element Vector{Float64}:\n",
       " 3.0\n",
       " 3.0\n",
       " 3.0"
      ]
     },
     "execution_count": 41,
     "metadata": {},
     "output_type": "execute_result"
    }
   ],
   "source": [
    "A"
   ]
  },
  {
   "cell_type": "code",
   "execution_count": 42,
   "id": "7828aa20-d475-4696-9c15-7735549bffa6",
   "metadata": {},
   "outputs": [
    {
     "data": {
      "text/plain": [
       "3-element Vector{Float64}:\n",
       " 3.0\n",
       " 3.0\n",
       " 3.0"
      ]
     },
     "execution_count": 42,
     "metadata": {},
     "output_type": "execute_result"
    }
   ],
   "source": [
    "B"
   ]
  },
  {
   "cell_type": "code",
   "execution_count": 47,
   "id": "eb719632-443b-4177-a74b-7f015ccc71ca",
   "metadata": {},
   "outputs": [
    {
     "data": {
      "text/plain": [
       "3-element Vector{Float64}:\n",
       " 1.0\n",
       " 2.0\n",
       " 3.0"
      ]
     },
     "execution_count": 47,
     "metadata": {},
     "output_type": "execute_result"
    }
   ],
   "source": [
    "a = [1.0, 2.0, 3.0]\n",
    "abs.(a)"
   ]
  },
  {
   "cell_type": "code",
   "execution_count": null,
   "id": "819ea74d-5bbb-4f42-ab0f-f58843eec6af",
   "metadata": {},
   "outputs": [],
   "source": []
  }
 ],
 "metadata": {
  "kernelspec": {
   "display_name": "Julia 1.10.4",
   "language": "julia",
   "name": "julia-1.10"
  },
  "language_info": {
   "file_extension": ".jl",
   "mimetype": "application/julia",
   "name": "julia",
   "version": "1.10.4"
  }
 },
 "nbformat": 4,
 "nbformat_minor": 5
}
