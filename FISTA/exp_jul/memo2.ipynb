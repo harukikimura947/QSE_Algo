{
 "cells": [
  {
   "cell_type": "code",
   "execution_count": 1,
   "id": "8573aea1-be7e-4add-9923-121450992bc7",
   "metadata": {},
   "outputs": [
    {
     "ename": "LoadError",
     "evalue": "UndefVarError: `PS` not defined",
     "output_type": "error",
     "traceback": [
      "UndefVarError: `PS` not defined",
      ""
     ]
    }
   ],
   "source": [
    "PS C:\\Users\\kimura\\Downloads\\aaa>  & 'c:\\Users\\kimura\\.vscode\\extensions\\ms-vscode.cpptools-1.22.11-win32-x64\\debugAdapters\\bin\\WindowsDebugLauncher.exe' '--stdin=Microso\n",
    "PS C:\\Users\\kimura\\Downloads\\aaa>  & 'c:\\Users\\kimura\\.vscode\\extensions\\ms-vscode.cpptools-1.22.11-win32-x64\\debugAdapters\\bin\\WindowsDebugLauncher.exe' '--stdin=Microso\n",
    "PS C:\\Users\\kimura\\Downloads\\aaa>  & 'c:\\Users\\kimura\\.vscode\\extensions\\ms-vscode.cpptools-1.22.11-win32-x64\\debugAdapters\\bin\\WindowsDebugLauncher.exe' '--stdin=Microso\n",
    "PS C:\\Users\\kimura\\Downloads\\aaa>  & 'c:\\Users\\kimura\\.vscode\\extensions\\ms-vscode.cpptools-1.22.11-win32-x64\\debugAdapters\\bin\\WindowsDebugLauncher.exe' '--stdin=Microso\n",
    "PS C:\\Users\\kimura\\Downloads\\aaa>  & 'c:\\Users\\kimura\\.vscode\\extensions\\ms-vscode.cpptools-1.22.11-win32-x64\\debugAdapters\\bin\\WindowsDebugLauncher.exe' '--stdin=Microso\n",
    "PS C:\\Users\\kimura\\Downloads\\aaa>  & 'c:\\Users\\kimura\\.vscode\\extensions\\ms-vscode.cpptools-1.22.11-win32-x64\\debugAdapters\\bin\\WindowsDebugLauncher.exe' '--stdin=Microso\n",
    "PS C:\\Users\\kimura\\Downloads\\aaa>  & 'c:\\Users\\kimura\\.vscode\\extensions\\ms-vscode.cpptools-1.22.11-win32-x64\\debugAdapters\\bin\\WindowsDebugLauncher.exe' '--stdin=Microso\n",
    "PS C:\\Users\\kimura\\Downloads\\aaa>  & 'c:\\Users\\kimura\\.vscode\\extensions\\ms-vscode.cpptools-1.22.11-win32-x64\\debugAdapters\\bin\\WindowsDebugLauncher.exe' '--stdin=Microso\n",
    "PS C:\\Users\\kimura\\Downloads\\aaa>  & 'c:\\Users\\kimura\\.vscode\\extensions\\ms-vscode.cpptools-1.22.11-win32-x64\\debugAdapters\\bin\\WindowsDebugLauncher.exe' '--stdin=Microso\n",
    "PS C:\\Users\\kimura\\Downloads\\aaa>  & 'c:\\Users\\kimura\\.vscode\\extensions\\ms-vscode.cpptools-1.22.11-win32-x64\\debugAdapters\\bin\\WindowsDebugLauncher.exe' '--stdin=Microsoft-MIEngine-In-q5wcsreu.tdj' '--stdout=Microsoft-MIEngine-Out-ig1ntjai.0m0' '--stderr=Microsoft-MIEngine-Error-2emepfte.gxw' '--pid=Microsoft-MIEngine-Pid-ewedftwh.pgm' '--dbgExe=C:\\Program Files (x86)\\mingw64\\bin\\gdb.exe' '--interpreter=mi'\n",
    "g: 229\n",
    "g: 229\n",
    "CPU time used: 0.098000 seconds\n",
    "PS C:\\Users\\kimura\\Downloads\\aaa>  & 'c:\\Users\\kimura\\.vscode\\extensions\\ms-vscode.cpptools-1.22.11-win32-x64\\debugAdapters\\bin\\WindowsDebugLauncher.exe' '--stdin=Microsoft-MIEngine-In-bqfvofpz.oly' '--stdout=Microsoft-MIEngine-Out-2zz32sov.jx2' '--stderr=Microsoft-MIEngine-Error-i4spxo1w.t5g' '--pid=Microsoft-MIEngine-Pid-g1kjaupm.x5j' '--dbgExe=C:\\Program Files (x86)\\mingw64\\bin\\gdb.exe' '--interpreter=mi'\n",
    "g: 229\n",
    "CPU time used: 0.098000 seconds\n",
    "PS C:\\Users\\kimura\\Downloads\\aaa>  & 'c:\\Users\\kimura\\.vscode\\extensions\\ms-vscode.cpptools-1.22.11-win32-x64\\debugAdapters\\bin\\WindowsDebugLauncher.exe' '--stdin=Microsoft-MIEngine-In-bqfvofpz.oly' '--stdout=Microsoft-MIEngine-Out-2zz32sov.jx2' '--stderr=Microsoft-MIEng: 229\n",
    "CPU time used: 0.098000 seconds\n",
    "g: 229\n",
    "CPU time used: 0.098000 seconds\n",
    "PS C:\\Users\\kimura\\Downloads\\aaa>  & 'c:\\Users\\kimura\\.vscode\\extensions\\ms-vscode.cpptoolCPU time used: 0.098000 seconds\n",
    "CPU time used: 0.098000 seconds\n",
    "PS C:\\Users\\kimura\\Downloads\\aaa>  & 'c:\\Users\\kimura\\.vscode\\extensions\\ms-vscode.cpptools-1.22.11-win32-x64\\debugAdapters\\bin\\WindowsDebugLauncher.exe' '--stdin=Microsoft-MIEngine-In-bqfvofpz.oly' '--stdout=Microsoft-MIEngine-Out-2zz32sov.jx2' '--stderr=Microsoft-MIEngine-Error-i4spxo1w.t5g' '--pid=Microsoft-MIEngine-Pid-g1kjaupm.x5j' '--dbgExe=C:\\Program Files (x86)\\mingw64\\bin\\gdb.exe' '--interpreter=mi'\n",
    "g: 82\n",
    "e-In-bqfvofpz.oly' '--stdout=Microsoft-MIEngine-Out-2zz32sov.jx2' '--stderr=Microsoft-MIEngine-Error-i4spxo1w.t5g' '--pid=Microsoft-MIEngine-Pid-g1kjaupm.x5j' '--dbgExe=C:\\Program Files (x86)\\mingw64\\bin\\gdb.exe' '--interpreter=mi'\n",
    "g: 82\n",
    "CPU time used: 0.379000 seconds\n",
    "PS C:\\Users\\kimura\\Downloads\\aaa>  & 'c:\\Users\\kimura\\.vscode\\extensions\\ms-vscode.cpptools-1.22.11-win32-x64\\debugAdapters\\bin\\WindowsDebugLauncher.exe' '--stdin=Microsoft-MIEngine-In-bqfvofpz.oly' '--stdout=Microsoft-MIEngine-Out-2zz32sov.jx2' '--stderr=Microsoft-MIEngine-Error-i4spxo1w.t5g' '--pid=Microsoft-MIEngine-Pid-g1kjaupm.x5j' '--dbgExe=C:\\Program Files (x86)\\mingw64\\bin\\gdb.exe' '--interpreter=mi'\n",
    "g: 82\n",
    "CPU time used: 0.379000 seconds\n",
    "PS C:\\Users\\kimura\\Downloads\\aaa>  & 'c:\\Users\\kimura\\.vscode\\extensions\\ms-vscode.cpptoole-In-bqfvofpz.oly' '--stdout=Microsoft-MIEngine-Out-2zz32sov.jx2' '--stderr=Microsoft-MIEngine-Error-i4spxo1w.t5g' '--pid=Microsoft-MIEngine-Pid-g1kjaupm.x5j' '--dbgExe=C:\\Program Files (x86)\\mingw64\\bin\\gdb.exe' '--interpreter=mi'\n",
    "g: 82\n",
    "CPU time used: 0.379000 seconds\n",
    "gine-Error-i4spxo1w.t5g' '--pid=Microsoft-MIEngine-Pid-g1kjaupm.x5j' '--dbgExe=C:\\Program Files (x86)\\mingw64\\bin\\gdb.exe' '--interpreter=mi'\n",
    "g: 82\n",
    "Files (x86)\\mingw64\\bin\\gdb.exe' '--interpreter=mi'\n",
    "g: 82\n",
    "g: 82\n",
    "CPU time used: 0.379000 seconds\n",
    "PS C:\\Users\\kimura\\Downloads\\aaa>  & 'c:\\Users\\kimura\\.vscode\\extensions\\ms-vscode.cpptools-1.22.11-win32-x64\\debugAdapters\\bin\\WindowsDebugLauncher.exe' '--stdin=Microsoft-MIEngine-In-tc11aybz.vr1' '--stdout=Microsoft-MIEngine-Out-lrtpijag.5y4' '--stderr=Microsoft-MIEne-In-tc11aybz.vr1' '--stdout=Microsoft-MIEngine-Out-lrtpijag.5y4' '--stderr=Microsoft-MIEngine-Error-2wsgvypb.0ah' '--pid=Microsoft-MIEngine-Pid-xzawutr2.ju2' '--dbgExe=C:\\Program Files (x86)\\mingw64\\bin\\gdb.exe' '--interpreter=mi'\n",
    "gine-Error-2wsgvypb.0ah' '--pid=Microsoft-MIEngine-Pid-xzawutr2.ju2' '--dbgExe=C:\\Program Files (x86)\\mingw64\\bin\\gdb.exe' '--interpreter=mi'\n",
    "g: 1001\n",
    "CPU time used: 21.197000 seconds\n",
    "PS C:\\Users\\kimura\\Downloads\\aaa>  & 'c:\\Users\\kimura\\.vscode\\extensions\\ms-vscode.cpptools-1.22.11-win32-x64\\debugAdapters\\bin\\WindowsDebugLauncher.exe' '--stdin=Microsoft-MIEngine-In-3oqvh1gi.hwr' '--stdout=Microsoft-MIEngine-Out-apfbrg4i.r53' '--stderr=Microsoft-MIEngine-Error-pnk30k3p.ezz' '--pid=Microsoft-MIEngine-Pid-e3x0rmro.f0a' '--dbgExe=C:\\Program gine-Error-2wsgvypb.0ah' '--pid=Microsoft-MIEngine-Pid-xzawutr2.ju2' '--dbgExe=C:\\Program Files (x86)\\mingw64\\bin\\gdb.exe' '--interpreter=mi'\n",
    "Files (x86)\\mingw64\\bin\\gdb.exe' '--interpreter=mi'\n",
    "g: 1001\n",
    "CPU time used: 21.197000 seconds\n",
    "PS C:\\Users\\kimura\\Downloads\\aaa>  & 'c:\\Users\\kimura\\.vscode\\extensions\\ms-vscode.cpptools-1.22.11-win32-x64\\debugAdapters\\bin\\WindowsDebugLauncher.exe' '--stdin=Microsoft-MIEngine-In-3oqvh1gi.hwr' '--stdout=Microsoft-MIEngine-Out-apfbrg4i.r53' '--stderr=Microsoft-MIEnCPU time used: 21.197000 seconds\n",
    "PS C:\\Users\\kimura\\Downloads\\aaa>  & 'c:\\Users\\kimura\\.vscode\\extensions\\ms-vscode.cpptools-1.22.11-win32-x64\\debugAdapters\\bin\\WindowsDebugLauncher.exe' '--stdin=Microsoft-MIEngine-In-3oqvh1gi.hwr' '--stdout=Microsoft-MIEngine-Out-apfbrg4i.r53' '--stderr=Microsoft-MIEnPS C:\\Users\\kimura\\Downloads\\aaa>  & 'c:\\Users\\kimura\\.vscode\\extensions\\ms-vscode.cpptools-1.22.11-win32-x64\\debugAdapters\\bin\\WindowsDebugLauncher.exe' '--stdin=Microsoft-MIEngine-In-3oqvh1gi.hwr' '--stdout=Microsoft-MIEngine-Out-apfbrg4i.r53' '--stderr=Microsoft-MIEns-1.22.11-win32-x64\\debugAdapters\\bin\\WindowsDebugLauncher.exe' '--stdin=Microsoft-MIEngine-In-3oqvh1gi.hwr' '--stdout=Microsoft-MIEngine-Out-apfbrg4i.r53' '--stderr=Microsoft-MIEngine-Error-pnk30k3p.ezz' '--pid=Microsoft-MIEngine-Pid-e3x0rmro.f0a' '--dbgExe=C:\\Program Files (x86)\\mingw64\\bin\\gdb.exe' '--interpreter=mi'\n",
    "gine-Error-pnk30k3p.ezz' '--pid=Microsoft-MIEngine-Pid-e3x0rmro.f0a' '--dbgExe=C:\\Program gine-Error-pnk30k3p.ezz' '--pid=Microsoft-MIEngine-Pid-e3x0rmro.f0a' '--dbgExe=C:\\Program Files (x86)\\mingw64\\bin\\gdb.exe' '--interpreter=mi'\n",
    "g: 5465\n",
    "CPU time used: 116.585000 seconds\n",
    "PS C:\\Users\\kimura\\Downloads\\aaa>  & 'c:\\Users\\kimura\\.vscode\\extensions\\ms-vscode.cpptools-1.22.11-win32-x64\\debugAdapters\\bin\\WindowsDebugLauncher.exe' '--stdin=Microsoft-MIEngine-In-ongtbwxy.4on' '--stdout=Microsoft-MIEngine-Out-urbz5uq1.qzt' '--stderr=Microsoft-MIEngine-Error-0uevdstm.0cw' '--pid=Microsoft-MIEngine-Pid-2acdofbt.22w' '--dbgExe=C:\\Program Files (x86)\\mingw64\\bin\\gdb.exe' '--interpreter=mi'\n",
    "g: 5545\n",
    "CPU time used: 509.183000 seconds\n",
    "PS C:\\Users\\kimura\\Downloads\\aaa>  & 'c:\\Users\\kimura\\.vscode\\extensions\\ms-vscode.cpptools-1.22.11-win32-x64\\debugAdapters\\bin\\WindowsDebugLauncher.exe' '--stdin=Microsoft-MIEngine-In-4ak4di55.hac' '--stdout=Microsoft-MIEngine-Out-3x5aincr.5em' '--stderr=Microsoft-MIEngine-Error-sqvmyy1b.dyd' '--pid=Microsoft-MIEngine-Pid-0epo4r0w.fsv' '--dbgExe=C:\\Program Files (x86)\\mingw64\\bin\\gdb.exe' '--interpreter=mi'"
   ]
  },
  {
   "cell_type": "code",
   "execution_count": null,
   "id": "9ea0f417-43c7-451e-a4b7-f78c792bbf0c",
   "metadata": {},
   "outputs": [],
   "source": []
  }
 ],
 "metadata": {
  "kernelspec": {
   "display_name": "Julia 1.10.4",
   "language": "julia",
   "name": "julia-1.10"
  },
  "language_info": {
   "file_extension": ".jl",
   "mimetype": "application/julia",
   "name": "julia",
   "version": "1.10.4"
  }
 },
 "nbformat": 4,
 "nbformat_minor": 5
}
