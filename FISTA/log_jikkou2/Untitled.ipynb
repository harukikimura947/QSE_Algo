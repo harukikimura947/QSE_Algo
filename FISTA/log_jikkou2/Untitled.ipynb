{
 "cells": [
  {
   "cell_type": "code",
   "execution_count": 2,
   "id": "afd58887-a975-456c-9e09-1db7a5b9bd29",
   "metadata": {},
   "outputs": [
    {
     "data": {
      "text/plain": [
       "0.09003057317038046"
      ]
     },
     "execution_count": 2,
     "metadata": {},
     "output_type": "execute_result"
    }
   ],
   "source": [
    "import numpy as np\n",
    "\n",
    "A = np.exp(1)\n",
    "B = np.exp(2)\n",
    "C = np.exp(3)\n",
    "\n",
    "A / (A + B + C)"
   ]
  },
  {
   "cell_type": "code",
   "execution_count": 3,
   "id": "46918141-750e-4db7-9ec9-7d8fcb712138",
   "metadata": {},
   "outputs": [
    {
     "data": {
      "text/plain": [
       "0.03911257327068745"
      ]
     },
     "execution_count": 3,
     "metadata": {},
     "output_type": "execute_result"
    }
   ],
   "source": [
    "A = np.exp(1) ** 1.5\n",
    "B = np.exp(2) ** 1.5\n",
    "C = np.exp(3) ** 1.5\n",
    "\n",
    "A / (A + B + C)"
   ]
  },
  {
   "cell_type": "code",
   "execution_count": null,
   "id": "ad3e65b8-58c1-435c-bd63-73e2c6e251c7",
   "metadata": {},
   "outputs": [],
   "source": []
  }
 ],
 "metadata": {
  "kernelspec": {
   "display_name": "Python 3 (ipykernel)",
   "language": "python",
   "name": "python3"
  },
  "language_info": {
   "codemirror_mode": {
    "name": "ipython",
    "version": 3
   },
   "file_extension": ".py",
   "mimetype": "text/x-python",
   "name": "python",
   "nbconvert_exporter": "python",
   "pygments_lexer": "ipython3",
   "version": "3.10.9"
  }
 },
 "nbformat": 4,
 "nbformat_minor": 5
}
