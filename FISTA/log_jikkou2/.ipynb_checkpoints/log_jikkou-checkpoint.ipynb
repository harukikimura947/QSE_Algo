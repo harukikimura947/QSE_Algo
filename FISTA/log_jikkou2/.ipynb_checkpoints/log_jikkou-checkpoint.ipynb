{
 "cells": [
  {
   "cell_type": "code",
   "execution_count": 1,
   "id": "4d7e7881-92e4-4523-b14b-78a653a891f8",
   "metadata": {},
   "outputs": [
    {
     "data": {
      "text/plain": [
       "<module 'Sakai_mat.Sakai_mat_exp_Long_FISTA' from 'C:\\\\Users\\\\kimura\\\\qse_nume\\\\FISTA\\\\exp_jikkou_2\\\\Sakai_mat\\\\Sakai_mat_exp_Long_FISTA.py'>"
      ]
     },
     "execution_count": 1,
     "metadata": {},
     "output_type": "execute_result"
    }
   ],
   "source": [
    "from Sakai_mat import Sakai_mat_exp_parameter\n",
    "from Sakai_mat import Sakai_mat_exp_Short_FISTA\n",
    "from Sakai_mat import Sakai_mat_exp_Long_FISTA\n",
    "from Sakai_mat import lattice\n",
    "import time\n",
    "import numpy as np\n",
    "import pandas as pd\n",
    "import scipy.optimize as optimize\n",
    "import scipy.sparse as spsp\n",
    "import matplotlib.pyplot as plt\n",
    "import csv\n",
    "import os\n",
    "import cProfile\n",
    "import pstats\n",
    "\n",
    "from scipy.spatial import distance\n",
    "from scipy.optimize import linprog\n",
    "from scipy.optimize import minimize\n",
    "from collections import defaultdict\n",
    "from mpl_toolkits.mplot3d import Axes3D\n",
    "\n",
    "# 更新したモジュールの再reloadをしてくれる\n",
    "import importlib\n",
    "importlib.reload(Sakai_mat_exp_parameter)\n",
    "importlib.reload(Sakai_mat_exp_Short_FISTA)\n",
    "importlib.reload(Sakai_mat_exp_Long_FISTA)"
   ]
  },
  {
   "cell_type": "code",
   "execution_count": 26,
   "id": "ab6f7871-9d5f-4b49-b940-c4654db409c6",
   "metadata": {},
   "outputs": [],
   "source": [
    "E = 5\n",
    "Col = 30\n",
    "\n",
    "K = Col * Col\n",
    "\n",
    "M = 90\n",
    "N = 90\n",
    "\n",
    "# Scaling * tが格子の最小距離となる。\n",
    "Scaling = 300.0 / Col\n",
    "alter_T_num = 0.5\n",
    "\n",
    "city_network = lattice.make_lattice(Col)\n",
    "\n",
    "# 通勤費用パラメータ\n",
    "t = 0.1\n",
    "\n",
    "# 距離抵抗パラメータ\n",
    "tau = 0.01\n",
    "\n",
    "# 総土地供給量\n",
    "# S_total = K\n",
    "# S_bar = S_total / K\n",
    "S_total = 900\n",
    "S_bar = S_total / K\n",
    "\n",
    "Coordinate_Data = \\\n",
    "np.array([(city_network['node_dic'][str(i)]['x_pos']*Scaling,\n",
    "           city_network['node_dic'][str(i)]['y_pos']*Scaling) for i in range(K)])\n",
    "distance_matrix = distance.squareform(distance.pdist(Coordinate_Data))\n",
    "\n",
    "theta_firm = 0.15\n",
    "theta_house = 0.15\n",
    "\n",
    "alpha_1 = 0.4\n",
    "alpha_2 = 0.4\n",
    "beta_1 = 0.4\n",
    "beta_2 = 0.4\n",
    "\n",
    "L = 0.2\n",
    "eta = 1.2\n",
    "p_proj = 1e-3\n",
    "\n",
    "RW_ini = 1.0\n",
    "RW_proj = 1e-3\n",
    "\n",
    "err_short = 1e-5\n",
    "err_long = 1e-3\n",
    "obj_corr = 1.0\n",
    "\n",
    "m_per = M / K\n",
    "m0 = np.array([m_per] * K)\n",
    "n0 = np.full((K, K), N / (K * K))\n",
    "\n",
    "method = \"FISTA\"\n",
    "dic = \"Scaling=30\"\n",
    "\n",
    "#パラメータ設定\n",
    "\n",
    "prm = Sakai_mat_exp_parameter.Parameter(\n",
    "            Col, distance_matrix, t, tau, Scaling, S_total, S_bar,\n",
    "            theta_firm, theta_house, E, RW_proj, alter_T_num,\n",
    "            alpha_1, alpha_2, beta_1, beta_2, M, N)\n",
    "\n",
    "algprm = Sakai_mat_exp_parameter.Algo_Parameter(L, eta, p_proj)\n",
    "short = Sakai_mat_exp_Short_FISTA.Short(prm, algprm)\n",
    "long = Sakai_mat_exp_Long_FISTA.Long(prm, algprm, short)"
   ]
  },
  {
   "cell_type": "code",
   "execution_count": null,
   "id": "1f76532f-000a-4d15-b353-0a7303285091",
   "metadata": {},
   "outputs": [],
   "source": [
    "%%time\n",
    "m, n, RW, long_iteration, obj_list, obj_rel_list = long.solve(m0, n0, RW_ini, err_short, err_long, obj_corr, long_itr = 300)"
   ]
  },
  {
   "cell_type": "code",
   "execution_count": null,
   "id": "ac7c88b0-e270-4cd8-ba45-8c015fc28208",
   "metadata": {},
   "outputs": [],
   "source": [
    "R, W, iteration, obj_rel_list = short.short_solve(RW_ini, m, n, err_short, short_itr=100000, rel=0)\n",
    "\n",
    "S_H, L_H, S_F, L_F = short.demand_sparse(R, W)"
   ]
  },
  {
   "cell_type": "code",
   "execution_count": null,
   "id": "3ab665e6-33f9-4aa3-a9e5-904e00241062",
   "metadata": {},
   "outputs": [],
   "source": [
    "vmin = 0\n",
    "vmax = S_bar\n",
    "\n",
    "mat = np.reshape(m * S_F, (Col, Col))\n",
    "\n",
    "plt.figure(figsize=(5,5))\n",
    "plt.imshow(mat, interpolation='nearest', vmin = vmin, vmax = vmax, cmap='seismic')\n",
    "\n",
    "plt.colorbar()\n",
    "\n",
    "plt.xlabel('m * S_F', fontsize=20)\n",
    "\n",
    "plt.gca().invert_yaxis()\n",
    "plt.xticks([])\n",
    "plt.yticks([])\n",
    "\n",
    "plt.show()\n",
    "\n",
    "# vmin = 0\n",
    "# vmax = None\n",
    "\n",
    "# mat = np.reshape(m_before, (self.prm.Col, self.prm.Col))\n",
    "\n",
    "# plt.figure(figsize=(5,5))\n",
    "# plt.imshow(mat, interpolation='nearest', vmin = vmin, vmax = vmax, cmap='seismic')\n",
    "\n",
    "# plt.colorbar()\n",
    "\n",
    "# plt.xlabel('m', fontsize=20)\n",
    "\n",
    "# plt.gca().invert_yaxis()\n",
    "# plt.xticks([])\n",
    "# plt.yticks([])\n",
    "\n",
    "# plt.show()"
   ]
  },
  {
   "cell_type": "code",
   "execution_count": 4,
   "id": "d416dab8-7d7e-4750-9b04-30253188cba8",
   "metadata": {},
   "outputs": [
    {
     "data": {
      "text/plain": [
       "array([3, 1])"
      ]
     },
     "execution_count": 4,
     "metadata": {},
     "output_type": "execute_result"
    }
   ],
   "source": [
    "np.maximum([1,1], [3,-1])"
   ]
  },
  {
   "cell_type": "code",
   "execution_count": 5,
   "id": "bf641378-e0f5-4eb0-b20b-286d6647adc8",
   "metadata": {},
   "outputs": [],
   "source": [
    "R = np.random.rand(prm.K)\n",
    "W = np.random.rand(prm.K)"
   ]
  },
  {
   "cell_type": "code",
   "execution_count": 6,
   "id": "4395905f-734b-415a-a1d9-852263c2a6d9",
   "metadata": {},
   "outputs": [
    {
     "name": "stdout",
     "output_type": "stream",
     "text": [
      "CPU times: total: 562 ms\n",
      "Wall time: 571 ms\n"
     ]
    }
   ],
   "source": [
    "%%time\n",
    "for i in range(10**4):\n",
    "    __ = long.short.demand_sparse(R, W)"
   ]
  },
  {
   "cell_type": "code",
   "execution_count": null,
   "id": "768bdeef-a8c9-451b-9e75-3cc63a7298c3",
   "metadata": {},
   "outputs": [],
   "source": []
  }
 ],
 "metadata": {
  "kernelspec": {
   "display_name": "Python 3 (ipykernel)",
   "language": "python",
   "name": "python3"
  },
  "language_info": {
   "codemirror_mode": {
    "name": "ipython",
    "version": 3
   },
   "file_extension": ".py",
   "mimetype": "text/x-python",
   "name": "python",
   "nbconvert_exporter": "python",
   "pygments_lexer": "ipython3",
   "version": "3.10.9"
  }
 },
 "nbformat": 4,
 "nbformat_minor": 5
}
